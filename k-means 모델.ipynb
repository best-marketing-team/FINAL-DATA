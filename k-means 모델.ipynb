{
 "cells": [
  {
   "cell_type": "code",
   "execution_count": 1,
   "metadata": {},
   "outputs": [],
   "source": [
    "import pandas as pd"
   ]
  },
  {
   "cell_type": "code",
   "execution_count": 9,
   "metadata": {},
   "outputs": [],
   "source": [
    "df = pd.read_excel('./final_review.xlsx')"
   ]
  },
  {
   "cell_type": "code",
   "execution_count": 7,
   "metadata": {},
   "outputs": [],
   "source": [
    "df = pd.read_excel('./final_review.xlsx', sheet_name = 0)"
   ]
  },
  {
   "cell_type": "code",
   "execution_count": 241,
   "metadata": {},
   "outputs": [
    {
     "ename": "KeyboardInterrupt",
     "evalue": "",
     "output_type": "error",
     "traceback": [
      "\u001b[0;31m---------------------------------------------------------------------------\u001b[0m",
      "\u001b[0;31mKeyboardInterrupt\u001b[0m                         Traceback (most recent call last)",
      "\u001b[0;32m<ipython-input-241-e7dc7bb5a190>\u001b[0m in \u001b[0;36m<module>\u001b[0;34m\u001b[0m\n\u001b[1;32m      3\u001b[0m \u001b[0msheet3\u001b[0m \u001b[0;34m=\u001b[0m \u001b[0mpd\u001b[0m\u001b[0;34m.\u001b[0m\u001b[0mread_excel\u001b[0m\u001b[0;34m(\u001b[0m\u001b[0;34m'./final_review.xlsx'\u001b[0m\u001b[0;34m,\u001b[0m \u001b[0msheet_name\u001b[0m \u001b[0;34m=\u001b[0m \u001b[0;36m3\u001b[0m\u001b[0;34m)\u001b[0m\u001b[0;34m\u001b[0m\u001b[0;34m\u001b[0m\u001b[0m\n\u001b[1;32m      4\u001b[0m \u001b[0msheet4\u001b[0m \u001b[0;34m=\u001b[0m \u001b[0mpd\u001b[0m\u001b[0;34m.\u001b[0m\u001b[0mread_excel\u001b[0m\u001b[0;34m(\u001b[0m\u001b[0;34m'./final_review.xlsx'\u001b[0m\u001b[0;34m,\u001b[0m \u001b[0msheet_name\u001b[0m \u001b[0;34m=\u001b[0m \u001b[0;36m4\u001b[0m\u001b[0;34m)\u001b[0m\u001b[0;34m\u001b[0m\u001b[0;34m\u001b[0m\u001b[0m\n\u001b[0;32m----> 5\u001b[0;31m \u001b[0msheet5\u001b[0m \u001b[0;34m=\u001b[0m \u001b[0mpd\u001b[0m\u001b[0;34m.\u001b[0m\u001b[0mread_excel\u001b[0m\u001b[0;34m(\u001b[0m\u001b[0;34m'./final_review.xlsx'\u001b[0m\u001b[0;34m,\u001b[0m \u001b[0msheet_name\u001b[0m \u001b[0;34m=\u001b[0m \u001b[0;36m5\u001b[0m\u001b[0;34m)\u001b[0m\u001b[0;34m\u001b[0m\u001b[0;34m\u001b[0m\u001b[0m\n\u001b[0m\u001b[1;32m      6\u001b[0m \u001b[0msheet6\u001b[0m \u001b[0;34m=\u001b[0m \u001b[0mpd\u001b[0m\u001b[0;34m.\u001b[0m\u001b[0mread_excel\u001b[0m\u001b[0;34m(\u001b[0m\u001b[0;34m'./final_review.xlsx'\u001b[0m\u001b[0;34m,\u001b[0m \u001b[0msheet_name\u001b[0m \u001b[0;34m=\u001b[0m \u001b[0;36m6\u001b[0m\u001b[0;34m)\u001b[0m\u001b[0;34m\u001b[0m\u001b[0;34m\u001b[0m\u001b[0m\n\u001b[1;32m      7\u001b[0m \u001b[0msheet7\u001b[0m \u001b[0;34m=\u001b[0m \u001b[0mpd\u001b[0m\u001b[0;34m.\u001b[0m\u001b[0mread_excel\u001b[0m\u001b[0;34m(\u001b[0m\u001b[0;34m'./final_review.xlsx'\u001b[0m\u001b[0;34m,\u001b[0m \u001b[0msheet_name\u001b[0m \u001b[0;34m=\u001b[0m \u001b[0;36m7\u001b[0m\u001b[0;34m)\u001b[0m\u001b[0;34m\u001b[0m\u001b[0;34m\u001b[0m\u001b[0m\n",
      "\u001b[0;32m/opt/anaconda3/lib/python3.8/site-packages/pandas/util/_decorators.py\u001b[0m in \u001b[0;36mwrapper\u001b[0;34m(*args, **kwargs)\u001b[0m\n\u001b[1;32m    294\u001b[0m                 )\n\u001b[1;32m    295\u001b[0m                 \u001b[0mwarnings\u001b[0m\u001b[0;34m.\u001b[0m\u001b[0mwarn\u001b[0m\u001b[0;34m(\u001b[0m\u001b[0mmsg\u001b[0m\u001b[0;34m,\u001b[0m \u001b[0mFutureWarning\u001b[0m\u001b[0;34m,\u001b[0m \u001b[0mstacklevel\u001b[0m\u001b[0;34m=\u001b[0m\u001b[0mstacklevel\u001b[0m\u001b[0;34m)\u001b[0m\u001b[0;34m\u001b[0m\u001b[0;34m\u001b[0m\u001b[0m\n\u001b[0;32m--> 296\u001b[0;31m             \u001b[0;32mreturn\u001b[0m \u001b[0mfunc\u001b[0m\u001b[0;34m(\u001b[0m\u001b[0;34m*\u001b[0m\u001b[0margs\u001b[0m\u001b[0;34m,\u001b[0m \u001b[0;34m**\u001b[0m\u001b[0mkwargs\u001b[0m\u001b[0;34m)\u001b[0m\u001b[0;34m\u001b[0m\u001b[0;34m\u001b[0m\u001b[0m\n\u001b[0m\u001b[1;32m    297\u001b[0m \u001b[0;34m\u001b[0m\u001b[0m\n\u001b[1;32m    298\u001b[0m         \u001b[0;32mreturn\u001b[0m \u001b[0mwrapper\u001b[0m\u001b[0;34m\u001b[0m\u001b[0;34m\u001b[0m\u001b[0m\n",
      "\u001b[0;32m/opt/anaconda3/lib/python3.8/site-packages/pandas/io/excel/_base.py\u001b[0m in \u001b[0;36mread_excel\u001b[0;34m(io, sheet_name, header, names, index_col, usecols, squeeze, dtype, engine, converters, true_values, false_values, skiprows, nrows, na_values, keep_default_na, na_filter, verbose, parse_dates, date_parser, thousands, comment, skipfooter, convert_float, mangle_dupe_cols)\u001b[0m\n\u001b[1;32m    302\u001b[0m \u001b[0;34m\u001b[0m\u001b[0m\n\u001b[1;32m    303\u001b[0m     \u001b[0;32mif\u001b[0m \u001b[0;32mnot\u001b[0m \u001b[0misinstance\u001b[0m\u001b[0;34m(\u001b[0m\u001b[0mio\u001b[0m\u001b[0;34m,\u001b[0m \u001b[0mExcelFile\u001b[0m\u001b[0;34m)\u001b[0m\u001b[0;34m:\u001b[0m\u001b[0;34m\u001b[0m\u001b[0;34m\u001b[0m\u001b[0m\n\u001b[0;32m--> 304\u001b[0;31m         \u001b[0mio\u001b[0m \u001b[0;34m=\u001b[0m \u001b[0mExcelFile\u001b[0m\u001b[0;34m(\u001b[0m\u001b[0mio\u001b[0m\u001b[0;34m,\u001b[0m \u001b[0mengine\u001b[0m\u001b[0;34m=\u001b[0m\u001b[0mengine\u001b[0m\u001b[0;34m)\u001b[0m\u001b[0;34m\u001b[0m\u001b[0;34m\u001b[0m\u001b[0m\n\u001b[0m\u001b[1;32m    305\u001b[0m     \u001b[0;32melif\u001b[0m \u001b[0mengine\u001b[0m \u001b[0;32mand\u001b[0m \u001b[0mengine\u001b[0m \u001b[0;34m!=\u001b[0m \u001b[0mio\u001b[0m\u001b[0;34m.\u001b[0m\u001b[0mengine\u001b[0m\u001b[0;34m:\u001b[0m\u001b[0;34m\u001b[0m\u001b[0;34m\u001b[0m\u001b[0m\n\u001b[1;32m    306\u001b[0m         raise ValueError(\n",
      "\u001b[0;32m/opt/anaconda3/lib/python3.8/site-packages/pandas/io/excel/_base.py\u001b[0m in \u001b[0;36m__init__\u001b[0;34m(self, path_or_buffer, engine)\u001b[0m\n\u001b[1;32m    865\u001b[0m         \u001b[0mself\u001b[0m\u001b[0;34m.\u001b[0m\u001b[0m_io\u001b[0m \u001b[0;34m=\u001b[0m \u001b[0mstringify_path\u001b[0m\u001b[0;34m(\u001b[0m\u001b[0mpath_or_buffer\u001b[0m\u001b[0;34m)\u001b[0m\u001b[0;34m\u001b[0m\u001b[0;34m\u001b[0m\u001b[0m\n\u001b[1;32m    866\u001b[0m \u001b[0;34m\u001b[0m\u001b[0m\n\u001b[0;32m--> 867\u001b[0;31m         \u001b[0mself\u001b[0m\u001b[0;34m.\u001b[0m\u001b[0m_reader\u001b[0m \u001b[0;34m=\u001b[0m \u001b[0mself\u001b[0m\u001b[0;34m.\u001b[0m\u001b[0m_engines\u001b[0m\u001b[0;34m[\u001b[0m\u001b[0mengine\u001b[0m\u001b[0;34m]\u001b[0m\u001b[0;34m(\u001b[0m\u001b[0mself\u001b[0m\u001b[0;34m.\u001b[0m\u001b[0m_io\u001b[0m\u001b[0;34m)\u001b[0m\u001b[0;34m\u001b[0m\u001b[0;34m\u001b[0m\u001b[0m\n\u001b[0m\u001b[1;32m    868\u001b[0m \u001b[0;34m\u001b[0m\u001b[0m\n\u001b[1;32m    869\u001b[0m     \u001b[0;32mdef\u001b[0m \u001b[0m__fspath__\u001b[0m\u001b[0;34m(\u001b[0m\u001b[0mself\u001b[0m\u001b[0;34m)\u001b[0m\u001b[0;34m:\u001b[0m\u001b[0;34m\u001b[0m\u001b[0;34m\u001b[0m\u001b[0m\n",
      "\u001b[0;32m/opt/anaconda3/lib/python3.8/site-packages/pandas/io/excel/_xlrd.py\u001b[0m in \u001b[0;36m__init__\u001b[0;34m(self, filepath_or_buffer)\u001b[0m\n\u001b[1;32m     20\u001b[0m         \u001b[0merr_msg\u001b[0m \u001b[0;34m=\u001b[0m \u001b[0;34m\"Install xlrd >= 1.0.0 for Excel support\"\u001b[0m\u001b[0;34m\u001b[0m\u001b[0;34m\u001b[0m\u001b[0m\n\u001b[1;32m     21\u001b[0m         \u001b[0mimport_optional_dependency\u001b[0m\u001b[0;34m(\u001b[0m\u001b[0;34m\"xlrd\"\u001b[0m\u001b[0;34m,\u001b[0m \u001b[0mextra\u001b[0m\u001b[0;34m=\u001b[0m\u001b[0merr_msg\u001b[0m\u001b[0;34m)\u001b[0m\u001b[0;34m\u001b[0m\u001b[0;34m\u001b[0m\u001b[0m\n\u001b[0;32m---> 22\u001b[0;31m         \u001b[0msuper\u001b[0m\u001b[0;34m(\u001b[0m\u001b[0;34m)\u001b[0m\u001b[0;34m.\u001b[0m\u001b[0m__init__\u001b[0m\u001b[0;34m(\u001b[0m\u001b[0mfilepath_or_buffer\u001b[0m\u001b[0;34m)\u001b[0m\u001b[0;34m\u001b[0m\u001b[0;34m\u001b[0m\u001b[0m\n\u001b[0m\u001b[1;32m     23\u001b[0m \u001b[0;34m\u001b[0m\u001b[0m\n\u001b[1;32m     24\u001b[0m     \u001b[0;34m@\u001b[0m\u001b[0mproperty\u001b[0m\u001b[0;34m\u001b[0m\u001b[0;34m\u001b[0m\u001b[0m\n",
      "\u001b[0;32m/opt/anaconda3/lib/python3.8/site-packages/pandas/io/excel/_base.py\u001b[0m in \u001b[0;36m__init__\u001b[0;34m(self, filepath_or_buffer)\u001b[0m\n\u001b[1;32m    351\u001b[0m             \u001b[0mself\u001b[0m\u001b[0;34m.\u001b[0m\u001b[0mbook\u001b[0m \u001b[0;34m=\u001b[0m \u001b[0mself\u001b[0m\u001b[0;34m.\u001b[0m\u001b[0mload_workbook\u001b[0m\u001b[0;34m(\u001b[0m\u001b[0mfilepath_or_buffer\u001b[0m\u001b[0;34m)\u001b[0m\u001b[0;34m\u001b[0m\u001b[0;34m\u001b[0m\u001b[0m\n\u001b[1;32m    352\u001b[0m         \u001b[0;32melif\u001b[0m \u001b[0misinstance\u001b[0m\u001b[0;34m(\u001b[0m\u001b[0mfilepath_or_buffer\u001b[0m\u001b[0;34m,\u001b[0m \u001b[0mstr\u001b[0m\u001b[0;34m)\u001b[0m\u001b[0;34m:\u001b[0m\u001b[0;34m\u001b[0m\u001b[0;34m\u001b[0m\u001b[0m\n\u001b[0;32m--> 353\u001b[0;31m             \u001b[0mself\u001b[0m\u001b[0;34m.\u001b[0m\u001b[0mbook\u001b[0m \u001b[0;34m=\u001b[0m \u001b[0mself\u001b[0m\u001b[0;34m.\u001b[0m\u001b[0mload_workbook\u001b[0m\u001b[0;34m(\u001b[0m\u001b[0mfilepath_or_buffer\u001b[0m\u001b[0;34m)\u001b[0m\u001b[0;34m\u001b[0m\u001b[0;34m\u001b[0m\u001b[0m\n\u001b[0m\u001b[1;32m    354\u001b[0m         \u001b[0;32melif\u001b[0m \u001b[0misinstance\u001b[0m\u001b[0;34m(\u001b[0m\u001b[0mfilepath_or_buffer\u001b[0m\u001b[0;34m,\u001b[0m \u001b[0mbytes\u001b[0m\u001b[0;34m)\u001b[0m\u001b[0;34m:\u001b[0m\u001b[0;34m\u001b[0m\u001b[0;34m\u001b[0m\u001b[0m\n\u001b[1;32m    355\u001b[0m             \u001b[0mself\u001b[0m\u001b[0;34m.\u001b[0m\u001b[0mbook\u001b[0m \u001b[0;34m=\u001b[0m \u001b[0mself\u001b[0m\u001b[0;34m.\u001b[0m\u001b[0mload_workbook\u001b[0m\u001b[0;34m(\u001b[0m\u001b[0mBytesIO\u001b[0m\u001b[0;34m(\u001b[0m\u001b[0mfilepath_or_buffer\u001b[0m\u001b[0;34m)\u001b[0m\u001b[0;34m)\u001b[0m\u001b[0;34m\u001b[0m\u001b[0;34m\u001b[0m\u001b[0m\n",
      "\u001b[0;32m/opt/anaconda3/lib/python3.8/site-packages/pandas/io/excel/_xlrd.py\u001b[0m in \u001b[0;36mload_workbook\u001b[0;34m(self, filepath_or_buffer)\u001b[0m\n\u001b[1;32m     35\u001b[0m             \u001b[0;32mreturn\u001b[0m \u001b[0mopen_workbook\u001b[0m\u001b[0;34m(\u001b[0m\u001b[0mfile_contents\u001b[0m\u001b[0;34m=\u001b[0m\u001b[0mdata\u001b[0m\u001b[0;34m)\u001b[0m\u001b[0;34m\u001b[0m\u001b[0;34m\u001b[0m\u001b[0m\n\u001b[1;32m     36\u001b[0m         \u001b[0;32melse\u001b[0m\u001b[0;34m:\u001b[0m\u001b[0;34m\u001b[0m\u001b[0;34m\u001b[0m\u001b[0m\n\u001b[0;32m---> 37\u001b[0;31m             \u001b[0;32mreturn\u001b[0m \u001b[0mopen_workbook\u001b[0m\u001b[0;34m(\u001b[0m\u001b[0mfilepath_or_buffer\u001b[0m\u001b[0;34m)\u001b[0m\u001b[0;34m\u001b[0m\u001b[0;34m\u001b[0m\u001b[0m\n\u001b[0m\u001b[1;32m     38\u001b[0m \u001b[0;34m\u001b[0m\u001b[0m\n\u001b[1;32m     39\u001b[0m     \u001b[0;34m@\u001b[0m\u001b[0mproperty\u001b[0m\u001b[0;34m\u001b[0m\u001b[0;34m\u001b[0m\u001b[0m\n",
      "\u001b[0;32m/opt/anaconda3/lib/python3.8/site-packages/xlrd/__init__.py\u001b[0m in \u001b[0;36mopen_workbook\u001b[0;34m(filename, logfile, verbosity, use_mmap, file_contents, encoding_override, formatting_info, on_demand, ragged_rows)\u001b[0m\n\u001b[1;32m    128\u001b[0m         \u001b[0;32mif\u001b[0m \u001b[0;34m'xl/workbook.xml'\u001b[0m \u001b[0;32min\u001b[0m \u001b[0mcomponent_names\u001b[0m\u001b[0;34m:\u001b[0m\u001b[0;34m\u001b[0m\u001b[0;34m\u001b[0m\u001b[0m\n\u001b[1;32m    129\u001b[0m             \u001b[0;32mfrom\u001b[0m \u001b[0;34m.\u001b[0m \u001b[0;32mimport\u001b[0m \u001b[0mxlsx\u001b[0m\u001b[0;34m\u001b[0m\u001b[0;34m\u001b[0m\u001b[0m\n\u001b[0;32m--> 130\u001b[0;31m             bk = xlsx.open_workbook_2007_xml(\n\u001b[0m\u001b[1;32m    131\u001b[0m                 \u001b[0mzf\u001b[0m\u001b[0;34m,\u001b[0m\u001b[0;34m\u001b[0m\u001b[0;34m\u001b[0m\u001b[0m\n\u001b[1;32m    132\u001b[0m                 \u001b[0mcomponent_names\u001b[0m\u001b[0;34m,\u001b[0m\u001b[0;34m\u001b[0m\u001b[0;34m\u001b[0m\u001b[0m\n",
      "\u001b[0;32m/opt/anaconda3/lib/python3.8/site-packages/xlrd/xlsx.py\u001b[0m in \u001b[0;36mopen_workbook_2007_xml\u001b[0;34m(zf, component_names, logfile, verbosity, use_mmap, formatting_info, on_demand, ragged_rows)\u001b[0m\n\u001b[1;32m    839\u001b[0m         \u001b[0mx12sheet\u001b[0m \u001b[0;34m=\u001b[0m \u001b[0mX12Sheet\u001b[0m\u001b[0;34m(\u001b[0m\u001b[0msheet\u001b[0m\u001b[0;34m,\u001b[0m \u001b[0mlogfile\u001b[0m\u001b[0;34m,\u001b[0m \u001b[0mverbosity\u001b[0m\u001b[0;34m)\u001b[0m\u001b[0;34m\u001b[0m\u001b[0;34m\u001b[0m\u001b[0m\n\u001b[1;32m    840\u001b[0m         \u001b[0mheading\u001b[0m \u001b[0;34m=\u001b[0m \u001b[0;34m\"Sheet %r (sheetx=%d) from %r\"\u001b[0m \u001b[0;34m%\u001b[0m \u001b[0;34m(\u001b[0m\u001b[0msheet\u001b[0m\u001b[0;34m.\u001b[0m\u001b[0mname\u001b[0m\u001b[0;34m,\u001b[0m \u001b[0msheetx\u001b[0m\u001b[0;34m,\u001b[0m \u001b[0mfname\u001b[0m\u001b[0;34m)\u001b[0m\u001b[0;34m\u001b[0m\u001b[0;34m\u001b[0m\u001b[0m\n\u001b[0;32m--> 841\u001b[0;31m         \u001b[0mx12sheet\u001b[0m\u001b[0;34m.\u001b[0m\u001b[0mprocess_stream\u001b[0m\u001b[0;34m(\u001b[0m\u001b[0mzflo\u001b[0m\u001b[0;34m,\u001b[0m \u001b[0mheading\u001b[0m\u001b[0;34m)\u001b[0m\u001b[0;34m\u001b[0m\u001b[0;34m\u001b[0m\u001b[0m\n\u001b[0m\u001b[1;32m    842\u001b[0m         \u001b[0;32mdel\u001b[0m \u001b[0mzflo\u001b[0m\u001b[0;34m\u001b[0m\u001b[0;34m\u001b[0m\u001b[0m\n\u001b[1;32m    843\u001b[0m \u001b[0;34m\u001b[0m\u001b[0m\n",
      "\u001b[0;32m/opt/anaconda3/lib/python3.8/site-packages/xlrd/xlsx.py\u001b[0m in \u001b[0;36mown_process_stream\u001b[0;34m(self, stream, heading)\u001b[0m\n\u001b[1;32m    548\u001b[0m         \u001b[0;32mfor\u001b[0m \u001b[0mevent\u001b[0m\u001b[0;34m,\u001b[0m \u001b[0melem\u001b[0m \u001b[0;32min\u001b[0m \u001b[0mET\u001b[0m\u001b[0;34m.\u001b[0m\u001b[0miterparse\u001b[0m\u001b[0;34m(\u001b[0m\u001b[0mstream\u001b[0m\u001b[0;34m)\u001b[0m\u001b[0;34m:\u001b[0m\u001b[0;34m\u001b[0m\u001b[0;34m\u001b[0m\u001b[0m\n\u001b[1;32m    549\u001b[0m             \u001b[0;32mif\u001b[0m \u001b[0melem\u001b[0m\u001b[0;34m.\u001b[0m\u001b[0mtag\u001b[0m \u001b[0;34m==\u001b[0m \u001b[0mrow_tag\u001b[0m\u001b[0;34m:\u001b[0m\u001b[0;34m\u001b[0m\u001b[0;34m\u001b[0m\u001b[0m\n\u001b[0;32m--> 550\u001b[0;31m                 \u001b[0mself_do_row\u001b[0m\u001b[0;34m(\u001b[0m\u001b[0melem\u001b[0m\u001b[0;34m)\u001b[0m\u001b[0;34m\u001b[0m\u001b[0;34m\u001b[0m\u001b[0m\n\u001b[0m\u001b[1;32m    551\u001b[0m                 \u001b[0melem\u001b[0m\u001b[0;34m.\u001b[0m\u001b[0mclear\u001b[0m\u001b[0;34m(\u001b[0m\u001b[0;34m)\u001b[0m \u001b[0;31m# destroy all child elements (cells)\u001b[0m\u001b[0;34m\u001b[0m\u001b[0;34m\u001b[0m\u001b[0m\n\u001b[1;32m    552\u001b[0m             \u001b[0;32melif\u001b[0m \u001b[0melem\u001b[0m\u001b[0;34m.\u001b[0m\u001b[0mtag\u001b[0m \u001b[0;34m==\u001b[0m \u001b[0mU_SSML12\u001b[0m \u001b[0;34m+\u001b[0m \u001b[0;34m\"dimension\"\u001b[0m\u001b[0;34m:\u001b[0m\u001b[0;34m\u001b[0m\u001b[0;34m\u001b[0m\u001b[0m\n",
      "\u001b[0;32m/opt/anaconda3/lib/python3.8/site-packages/xlrd/xlsx.py\u001b[0m in \u001b[0;36mdo_row\u001b[0;34m(self, row_elem)\u001b[0m\n\u001b[1;32m    661\u001b[0m                         \u001b[0mlv\u001b[0m \u001b[0;34m=\u001b[0m \u001b[0mletter_value\u001b[0m\u001b[0;34m[\u001b[0m\u001b[0mc\u001b[0m\u001b[0;34m]\u001b[0m\u001b[0;34m\u001b[0m\u001b[0;34m\u001b[0m\u001b[0m\n\u001b[1;32m    662\u001b[0m                         \u001b[0;32mif\u001b[0m \u001b[0mlv\u001b[0m\u001b[0;34m:\u001b[0m\u001b[0;34m\u001b[0m\u001b[0;34m\u001b[0m\u001b[0m\n\u001b[0;32m--> 663\u001b[0;31m                             \u001b[0mcolx\u001b[0m \u001b[0;34m=\u001b[0m \u001b[0mcolx\u001b[0m \u001b[0;34m*\u001b[0m \u001b[0;36m26\u001b[0m \u001b[0;34m+\u001b[0m \u001b[0mlv\u001b[0m\u001b[0;34m\u001b[0m\u001b[0;34m\u001b[0m\u001b[0m\n\u001b[0m\u001b[1;32m    664\u001b[0m                         \u001b[0;32melse\u001b[0m\u001b[0;34m:\u001b[0m \u001b[0;31m# start of row number; can't be '0'\u001b[0m\u001b[0;34m\u001b[0m\u001b[0;34m\u001b[0m\u001b[0m\n\u001b[1;32m    665\u001b[0m                             \u001b[0mcolx\u001b[0m \u001b[0;34m=\u001b[0m \u001b[0mcolx\u001b[0m \u001b[0;34m-\u001b[0m \u001b[0;36m1\u001b[0m\u001b[0;34m\u001b[0m\u001b[0;34m\u001b[0m\u001b[0m\n",
      "\u001b[0;31mKeyboardInterrupt\u001b[0m: "
     ]
    }
   ],
   "source": [
    "sheet1 = pd.read_excel('./final_review.xlsx', sheet_name = 1)\n",
    "sheet2 = pd.read_excel('./final_review.xlsx', sheet_name = 2)\n",
    "sheet3 = pd.read_excel('./final_review.xlsx', sheet_name = 3)\n",
    "sheet4 = pd.read_excel('./final_review.xlsx', sheet_name = 4)\n",
    "sheet5 = pd.read_excel('./final_review.xlsx', sheet_name = 5)\n",
    "sheet6 = pd.read_excel('./final_review.xlsx', sheet_name = 6)\n",
    "sheet7 = pd.read_excel('./final_review.xlsx', sheet_name = 7)\n",
    "sheet8 = pd.read_excel('./final_review.xlsx', sheet_name = 8)\n",
    "sheet9 = pd.read_excel('./final_review.xlsx', sheet_name = 9)\n",
    "sheet10 = pd.read_excel('./final_review.xlsx', sheet_name = 10)"
   ]
  },
  {
   "cell_type": "code",
   "execution_count": null,
   "metadata": {},
   "outputs": [],
   "source": []
  },
  {
   "cell_type": "code",
   "execution_count": 10,
   "metadata": {},
   "outputs": [
    {
     "data": {
      "text/html": [
       "<div>\n",
       "<style scoped>\n",
       "    .dataframe tbody tr th:only-of-type {\n",
       "        vertical-align: middle;\n",
       "    }\n",
       "\n",
       "    .dataframe tbody tr th {\n",
       "        vertical-align: top;\n",
       "    }\n",
       "\n",
       "    .dataframe thead th {\n",
       "        text-align: right;\n",
       "    }\n",
       "</style>\n",
       "<table border=\"1\" class=\"dataframe\">\n",
       "  <thead>\n",
       "    <tr style=\"text-align: right;\">\n",
       "      <th></th>\n",
       "      <th>튼튼닷컴 밀크씨슬 [6개월분], 1000mg, 1개, 180캡슐 26,900원</th>\n",
       "      <th>지앤씨 밀크시슬, 60정, 1개</th>\n",
       "      <th>종근당건강 헬씨칸 밀크씨슬 영양제, 30정, 2개 23,270원</th>\n",
       "      <th>보뚜 간에좋은 밀크씨슬 프리미엄, 150정, 1개 29,900</th>\n",
       "      <th>Now Foods 실리마린 밀크 시슬 추출물 300mg 베지 캡슐, 1개</th>\n",
       "      <th>뉴트리데이 프리미엄</th>\n",
       "      <th>GNM자연의품격 건강한 간 밀크씨슬, 132정, 1개</th>\n",
       "      <th>GNM자연의품격 건강한 간 밀크씨슬, 30정, 6개</th>\n",
       "      <th>Swanson 밀크 시슬 500mg 캡슐, 100개입, 1개</th>\n",
       "      <th>한미헬스케어 간에 좋은 밀크씨슬 골드, 90정, 2개</th>\n",
       "    </tr>\n",
       "  </thead>\n",
       "  <tbody>\n",
       "    <tr>\n",
       "      <th>0</th>\n",
       "      <td>리베카</td>\n",
       "      <td>겨울온기</td>\n",
       "      <td>서*아</td>\n",
       "      <td>홍*환</td>\n",
       "      <td>쿸쿸쿸</td>\n",
       "      <td>실천의힘</td>\n",
       "      <td>UNIUNI</td>\n",
       "      <td>칠치링</td>\n",
       "      <td>배*웅</td>\n",
       "      <td>리뷰홀릭</td>\n",
       "    </tr>\n",
       "    <tr>\n",
       "      <th>1</th>\n",
       "      <td>제주남</td>\n",
       "      <td>하*희</td>\n",
       "      <td>집노예도비</td>\n",
       "      <td>다없대</td>\n",
       "      <td>전천도</td>\n",
       "      <td>엄*주</td>\n",
       "      <td>또또뿌니율</td>\n",
       "      <td>또또뿌니율</td>\n",
       "      <td>이*범</td>\n",
       "      <td>웅장해진다</td>\n",
       "    </tr>\n",
       "    <tr>\n",
       "      <th>2</th>\n",
       "      <td>나비아씨</td>\n",
       "      <td>솔직냥집사</td>\n",
       "      <td>또또뿌니율</td>\n",
       "      <td>esmooom</td>\n",
       "      <td>오*진</td>\n",
       "      <td>웅장해진다</td>\n",
       "      <td>이이이삼</td>\n",
       "      <td>오*근</td>\n",
       "      <td>웅장해진다</td>\n",
       "      <td>김*래</td>\n",
       "    </tr>\n",
       "    <tr>\n",
       "      <th>3</th>\n",
       "      <td>박*하</td>\n",
       "      <td>윤*우</td>\n",
       "      <td>좋은날들</td>\n",
       "      <td>노란잠수함</td>\n",
       "      <td>까페타임</td>\n",
       "      <td>지앤지앤</td>\n",
       "      <td>박*숙</td>\n",
       "      <td>혼밥녀</td>\n",
       "      <td>까페타임</td>\n",
       "      <td>한보리</td>\n",
       "    </tr>\n",
       "    <tr>\n",
       "      <th>4</th>\n",
       "      <td>유*한</td>\n",
       "      <td>이*인</td>\n",
       "      <td>좋은날들</td>\n",
       "      <td>듀륏cherry</td>\n",
       "      <td>박*대</td>\n",
       "      <td>보석마미</td>\n",
       "      <td>이*영</td>\n",
       "      <td>혼밥녀</td>\n",
       "      <td>웅컁키쿄쿡</td>\n",
       "      <td>이*현</td>\n",
       "    </tr>\n",
       "  </tbody>\n",
       "</table>\n",
       "</div>"
      ],
      "text/plain": [
       "  튼튼닷컴 밀크씨슬 [6개월분], 1000mg, 1개, 180캡슐 26,900원 지앤씨 밀크시슬, 60정, 1개   \\\n",
       "0                                        리베카               겨울온기    \n",
       "1                                        제주남                하*희    \n",
       "2                                       나비아씨              솔직냥집사    \n",
       "3                                        박*하                윤*우    \n",
       "4                                        유*한                이*인    \n",
       "\n",
       "  종근당건강 헬씨칸 밀크씨슬 영양제, 30정, 2개 23,270원 보뚜 간에좋은 밀크씨슬 프리미엄, 150정, 1개 29,900  \\\n",
       "0                                서*아                                홍*환    \n",
       "1                              집노예도비                                다없대    \n",
       "2                              또또뿌니율                            esmooom    \n",
       "3                               좋은날들                              노란잠수함    \n",
       "4                               좋은날들                           듀륏cherry    \n",
       "\n",
       "  Now Foods 실리마린 밀크 시슬 추출물 300mg 베지 캡슐, 1개 뉴트리데이 프리미엄  \\\n",
       "0                                     쿸쿸쿸       실천의힘    \n",
       "1                                     전천도        엄*주    \n",
       "2                                     오*진      웅장해진다    \n",
       "3                                    까페타임       지앤지앤    \n",
       "4                                     박*대       보석마미    \n",
       "\n",
       "  GNM자연의품격 건강한 간 밀크씨슬, 132정, 1개 GNM자연의품격 건강한 간 밀크씨슬, 30정, 6개  \\\n",
       "0                       UNIUNI                          칠치링    \n",
       "1                        또또뿌니율                        또또뿌니율    \n",
       "2                         이이이삼                          오*근    \n",
       "3                          박*숙                          혼밥녀    \n",
       "4                          이*영                          혼밥녀    \n",
       "\n",
       "  Swanson 밀크 시슬 500mg 캡슐, 100개입, 1개 한미헬스케어 간에 좋은 밀크씨슬 골드, 90정, 2개  \n",
       "0                              배*웅                          리뷰홀릭   \n",
       "1                              이*범                         웅장해진다   \n",
       "2                            웅장해진다                           김*래   \n",
       "3                             까페타임                           한보리   \n",
       "4                            웅컁키쿄쿡                           이*현   "
      ]
     },
     "execution_count": 10,
     "metadata": {},
     "output_type": "execute_result"
    }
   ],
   "source": [
    "df.head()"
   ]
  },
  {
   "cell_type": "code",
   "execution_count": null,
   "metadata": {},
   "outputs": [],
   "source": []
  },
  {
   "cell_type": "code",
   "execution_count": null,
   "metadata": {},
   "outputs": [],
   "source": []
  },
  {
   "cell_type": "code",
   "execution_count": 11,
   "metadata": {},
   "outputs": [
    {
     "data": {
      "text/plain": [
       "Index(['튼튼닷컴 밀크씨슬 [6개월분], 1000mg, 1개, 180캡슐 26,900원', '지앤씨 밀크시슬, 60정, 1개 ',\n",
       "       '종근당건강 헬씨칸 밀크씨슬 영양제, 30정, 2개 23,270원',\n",
       "       '보뚜 간에좋은 밀크씨슬 프리미엄, 150정, 1개 29,900',\n",
       "       'Now Foods 실리마린 밀크 시슬 추출물 300mg 베지 캡슐, 1개', '뉴트리데이 프리미엄',\n",
       "       'GNM자연의품격 건강한 간 밀크씨슬, 132정, 1개', 'GNM자연의품격 건강한 간 밀크씨슬, 30정, 6개',\n",
       "       'Swanson 밀크 시슬 500mg 캡슐, 100개입, 1개', '한미헬스케어 간에 좋은 밀크씨슬 골드, 90정, 2개'],\n",
       "      dtype='object')"
      ]
     },
     "execution_count": 11,
     "metadata": {},
     "output_type": "execute_result"
    }
   ],
   "source": [
    "df.columns"
   ]
  },
  {
   "cell_type": "code",
   "execution_count": 12,
   "metadata": {},
   "outputs": [
    {
     "data": {
      "text/plain": [
       "10"
      ]
     },
     "execution_count": 12,
     "metadata": {},
     "output_type": "execute_result"
    }
   ],
   "source": [
    "len(df.columns)"
   ]
  },
  {
   "cell_type": "code",
   "execution_count": 13,
   "metadata": {},
   "outputs": [],
   "source": [
    "name_label = df.columns"
   ]
  },
  {
   "cell_type": "code",
   "execution_count": 14,
   "metadata": {},
   "outputs": [
    {
     "data": {
      "text/plain": [
       "pandas.core.indexes.base.Index"
      ]
     },
     "execution_count": 14,
     "metadata": {},
     "output_type": "execute_result"
    }
   ],
   "source": [
    "type(name_label)"
   ]
  },
  {
   "cell_type": "code",
   "execution_count": 15,
   "metadata": {},
   "outputs": [],
   "source": [
    "name_label=list(name_label)"
   ]
  },
  {
   "cell_type": "code",
   "execution_count": 16,
   "metadata": {},
   "outputs": [
    {
     "data": {
      "text/plain": [
       "list"
      ]
     },
     "execution_count": 16,
     "metadata": {},
     "output_type": "execute_result"
    }
   ],
   "source": [
    "type(name_label)"
   ]
  },
  {
   "cell_type": "code",
   "execution_count": 17,
   "metadata": {},
   "outputs": [],
   "source": [
    "name_label = pd.Series(name_label)"
   ]
  },
  {
   "cell_type": "code",
   "execution_count": 18,
   "metadata": {},
   "outputs": [
    {
     "data": {
      "text/plain": [
       "pandas.core.series.Series"
      ]
     },
     "execution_count": 18,
     "metadata": {},
     "output_type": "execute_result"
    }
   ],
   "source": [
    "type(name_label)"
   ]
  },
  {
   "cell_type": "code",
   "execution_count": 19,
   "metadata": {},
   "outputs": [],
   "source": [
    "name_label.index = range(10)"
   ]
  },
  {
   "cell_type": "code",
   "execution_count": 20,
   "metadata": {},
   "outputs": [
    {
     "data": {
      "text/plain": [
       "0    튼튼닷컴 밀크씨슬 [6개월분], 1000mg, 1개, 180캡슐 26,900원\n",
       "1                             지앤씨 밀크시슬, 60정, 1개 \n",
       "2            종근당건강 헬씨칸 밀크씨슬 영양제, 30정, 2개 23,270원\n",
       "3             보뚜 간에좋은 밀크씨슬 프리미엄, 150정, 1개 29,900\n",
       "4       Now Foods 실리마린 밀크 시슬 추출물 300mg 베지 캡슐, 1개\n",
       "5                                     뉴트리데이 프리미엄\n",
       "6                  GNM자연의품격 건강한 간 밀크씨슬, 132정, 1개\n",
       "7                   GNM자연의품격 건강한 간 밀크씨슬, 30정, 6개\n",
       "8              Swanson 밀크 시슬 500mg 캡슐, 100개입, 1개\n",
       "9                  한미헬스케어 간에 좋은 밀크씨슬 골드, 90정, 2개\n",
       "dtype: object"
      ]
     },
     "execution_count": 20,
     "metadata": {},
     "output_type": "execute_result"
    }
   ],
   "source": [
    "name_label"
   ]
  },
  {
   "cell_type": "code",
   "execution_count": 21,
   "metadata": {},
   "outputs": [
    {
     "data": {
      "text/html": [
       "<div>\n",
       "<style scoped>\n",
       "    .dataframe tbody tr th:only-of-type {\n",
       "        vertical-align: middle;\n",
       "    }\n",
       "\n",
       "    .dataframe tbody tr th {\n",
       "        vertical-align: top;\n",
       "    }\n",
       "\n",
       "    .dataframe thead th {\n",
       "        text-align: right;\n",
       "    }\n",
       "</style>\n",
       "<table border=\"1\" class=\"dataframe\">\n",
       "  <thead>\n",
       "    <tr style=\"text-align: right;\">\n",
       "      <th></th>\n",
       "      <th>튼튼닷컴 밀크씨슬 [6개월분], 1000mg, 1개, 180캡슐 26,900원</th>\n",
       "      <th>지앤씨 밀크시슬, 60정, 1개</th>\n",
       "      <th>종근당건강 헬씨칸 밀크씨슬 영양제, 30정, 2개 23,270원</th>\n",
       "      <th>보뚜 간에좋은 밀크씨슬 프리미엄, 150정, 1개 29,900</th>\n",
       "      <th>Now Foods 실리마린 밀크 시슬 추출물 300mg 베지 캡슐, 1개</th>\n",
       "      <th>뉴트리데이 프리미엄</th>\n",
       "      <th>GNM자연의품격 건강한 간 밀크씨슬, 132정, 1개</th>\n",
       "      <th>GNM자연의품격 건강한 간 밀크씨슬, 30정, 6개</th>\n",
       "      <th>Swanson 밀크 시슬 500mg 캡슐, 100개입, 1개</th>\n",
       "      <th>한미헬스케어 간에 좋은 밀크씨슬 골드, 90정, 2개</th>\n",
       "    </tr>\n",
       "  </thead>\n",
       "  <tbody>\n",
       "    <tr>\n",
       "      <th>0</th>\n",
       "      <td>리베카</td>\n",
       "      <td>겨울온기</td>\n",
       "      <td>서*아</td>\n",
       "      <td>홍*환</td>\n",
       "      <td>쿸쿸쿸</td>\n",
       "      <td>실천의힘</td>\n",
       "      <td>UNIUNI</td>\n",
       "      <td>칠치링</td>\n",
       "      <td>배*웅</td>\n",
       "      <td>리뷰홀릭</td>\n",
       "    </tr>\n",
       "    <tr>\n",
       "      <th>1</th>\n",
       "      <td>제주남</td>\n",
       "      <td>하*희</td>\n",
       "      <td>집노예도비</td>\n",
       "      <td>다없대</td>\n",
       "      <td>전천도</td>\n",
       "      <td>엄*주</td>\n",
       "      <td>또또뿌니율</td>\n",
       "      <td>또또뿌니율</td>\n",
       "      <td>이*범</td>\n",
       "      <td>웅장해진다</td>\n",
       "    </tr>\n",
       "    <tr>\n",
       "      <th>2</th>\n",
       "      <td>나비아씨</td>\n",
       "      <td>솔직냥집사</td>\n",
       "      <td>또또뿌니율</td>\n",
       "      <td>esmooom</td>\n",
       "      <td>오*진</td>\n",
       "      <td>웅장해진다</td>\n",
       "      <td>이이이삼</td>\n",
       "      <td>오*근</td>\n",
       "      <td>웅장해진다</td>\n",
       "      <td>김*래</td>\n",
       "    </tr>\n",
       "    <tr>\n",
       "      <th>3</th>\n",
       "      <td>박*하</td>\n",
       "      <td>윤*우</td>\n",
       "      <td>좋은날들</td>\n",
       "      <td>노란잠수함</td>\n",
       "      <td>까페타임</td>\n",
       "      <td>지앤지앤</td>\n",
       "      <td>박*숙</td>\n",
       "      <td>혼밥녀</td>\n",
       "      <td>까페타임</td>\n",
       "      <td>한보리</td>\n",
       "    </tr>\n",
       "    <tr>\n",
       "      <th>4</th>\n",
       "      <td>유*한</td>\n",
       "      <td>이*인</td>\n",
       "      <td>좋은날들</td>\n",
       "      <td>듀륏cherry</td>\n",
       "      <td>박*대</td>\n",
       "      <td>보석마미</td>\n",
       "      <td>이*영</td>\n",
       "      <td>혼밥녀</td>\n",
       "      <td>웅컁키쿄쿡</td>\n",
       "      <td>이*현</td>\n",
       "    </tr>\n",
       "    <tr>\n",
       "      <th>...</th>\n",
       "      <td>...</td>\n",
       "      <td>...</td>\n",
       "      <td>...</td>\n",
       "      <td>...</td>\n",
       "      <td>...</td>\n",
       "      <td>...</td>\n",
       "      <td>...</td>\n",
       "      <td>...</td>\n",
       "      <td>...</td>\n",
       "      <td>...</td>\n",
       "    </tr>\n",
       "    <tr>\n",
       "      <th>995</th>\n",
       "      <td>NaN</td>\n",
       "      <td>NaN</td>\n",
       "      <td>최*람</td>\n",
       "      <td>최*호</td>\n",
       "      <td>김*애</td>\n",
       "      <td>jj7577</td>\n",
       "      <td>NaN</td>\n",
       "      <td>권*경</td>\n",
       "      <td>최*한</td>\n",
       "      <td>정*희</td>\n",
       "    </tr>\n",
       "    <tr>\n",
       "      <th>996</th>\n",
       "      <td>NaN</td>\n",
       "      <td>NaN</td>\n",
       "      <td>듀듐칫</td>\n",
       "      <td>한*섭</td>\n",
       "      <td>김*목</td>\n",
       "      <td>박*근</td>\n",
       "      <td>NaN</td>\n",
       "      <td>박*승</td>\n",
       "      <td>김*태</td>\n",
       "      <td>이*순</td>\n",
       "    </tr>\n",
       "    <tr>\n",
       "      <th>997</th>\n",
       "      <td>NaN</td>\n",
       "      <td>NaN</td>\n",
       "      <td>Yoonimom</td>\n",
       "      <td>오*준</td>\n",
       "      <td>황*원</td>\n",
       "      <td>정*공</td>\n",
       "      <td>NaN</td>\n",
       "      <td>배미자</td>\n",
       "      <td>최*우</td>\n",
       "      <td>김*영</td>\n",
       "    </tr>\n",
       "    <tr>\n",
       "      <th>998</th>\n",
       "      <td>NaN</td>\n",
       "      <td>NaN</td>\n",
       "      <td>송*진</td>\n",
       "      <td>유*근</td>\n",
       "      <td>심*준</td>\n",
       "      <td>신*철</td>\n",
       "      <td>NaN</td>\n",
       "      <td>정*미</td>\n",
       "      <td>김*숙</td>\n",
       "      <td>정*영</td>\n",
       "    </tr>\n",
       "    <tr>\n",
       "      <th>999</th>\n",
       "      <td>NaN</td>\n",
       "      <td>NaN</td>\n",
       "      <td>송*자</td>\n",
       "      <td>진*현</td>\n",
       "      <td>이*주</td>\n",
       "      <td>산골다래</td>\n",
       "      <td>NaN</td>\n",
       "      <td>박*혁</td>\n",
       "      <td>김*주</td>\n",
       "      <td>오*균</td>\n",
       "    </tr>\n",
       "  </tbody>\n",
       "</table>\n",
       "<p>1000 rows × 10 columns</p>\n",
       "</div>"
      ],
      "text/plain": [
       "    튼튼닷컴 밀크씨슬 [6개월분], 1000mg, 1개, 180캡슐 26,900원 지앤씨 밀크시슬, 60정, 1개   \\\n",
       "0                                          리베카               겨울온기    \n",
       "1                                          제주남                하*희    \n",
       "2                                         나비아씨              솔직냥집사    \n",
       "3                                          박*하                윤*우    \n",
       "4                                          유*한                이*인    \n",
       "..                                          ...                ...   \n",
       "995                                         NaN                NaN   \n",
       "996                                         NaN                NaN   \n",
       "997                                         NaN                NaN   \n",
       "998                                         NaN                NaN   \n",
       "999                                         NaN                NaN   \n",
       "\n",
       "    종근당건강 헬씨칸 밀크씨슬 영양제, 30정, 2개 23,270원 보뚜 간에좋은 밀크씨슬 프리미엄, 150정, 1개 29,900  \\\n",
       "0                                  서*아                                홍*환    \n",
       "1                                집노예도비                                다없대    \n",
       "2                                또또뿌니율                            esmooom    \n",
       "3                                 좋은날들                              노란잠수함    \n",
       "4                                 좋은날들                           듀륏cherry    \n",
       "..                                  ...                                ...   \n",
       "995                                최*람                                최*호    \n",
       "996                                듀듐칫                                한*섭    \n",
       "997                           Yoonimom                                오*준    \n",
       "998                                송*진                                유*근    \n",
       "999                                송*자                                진*현    \n",
       "\n",
       "    Now Foods 실리마린 밀크 시슬 추출물 300mg 베지 캡슐, 1개 뉴트리데이 프리미엄  \\\n",
       "0                                       쿸쿸쿸       실천의힘    \n",
       "1                                       전천도        엄*주    \n",
       "2                                       오*진      웅장해진다    \n",
       "3                                      까페타임       지앤지앤    \n",
       "4                                       박*대       보석마미    \n",
       "..                                       ...        ...   \n",
       "995                                     김*애     jj7577    \n",
       "996                                     김*목        박*근    \n",
       "997                                     황*원        정*공    \n",
       "998                                     심*준        신*철    \n",
       "999                                     이*주       산골다래    \n",
       "\n",
       "    GNM자연의품격 건강한 간 밀크씨슬, 132정, 1개 GNM자연의품격 건강한 간 밀크씨슬, 30정, 6개  \\\n",
       "0                         UNIUNI                          칠치링    \n",
       "1                          또또뿌니율                        또또뿌니율    \n",
       "2                           이이이삼                          오*근    \n",
       "3                            박*숙                          혼밥녀    \n",
       "4                            이*영                          혼밥녀    \n",
       "..                            ...                          ...   \n",
       "995                           NaN                         권*경    \n",
       "996                           NaN                         박*승    \n",
       "997                           NaN                         배미자    \n",
       "998                           NaN                         정*미    \n",
       "999                           NaN                         박*혁    \n",
       "\n",
       "    Swanson 밀크 시슬 500mg 캡슐, 100개입, 1개 한미헬스케어 간에 좋은 밀크씨슬 골드, 90정, 2개  \n",
       "0                                배*웅                          리뷰홀릭   \n",
       "1                                이*범                         웅장해진다   \n",
       "2                              웅장해진다                           김*래   \n",
       "3                               까페타임                           한보리   \n",
       "4                              웅컁키쿄쿡                           이*현   \n",
       "..                                ...                           ...  \n",
       "995                              최*한                           정*희   \n",
       "996                              김*태                           이*순   \n",
       "997                              최*우                           김*영   \n",
       "998                              김*숙                           정*영   \n",
       "999                              김*주                           오*균   \n",
       "\n",
       "[1000 rows x 10 columns]"
      ]
     },
     "execution_count": 21,
     "metadata": {},
     "output_type": "execute_result"
    }
   ],
   "source": [
    "df"
   ]
  },
  {
   "cell_type": "code",
   "execution_count": 22,
   "metadata": {},
   "outputs": [],
   "source": [
    "a_list = []\n",
    "for i in range(10):\n",
    "    a_list.append('code'+str(i))"
   ]
  },
  {
   "cell_type": "code",
   "execution_count": 23,
   "metadata": {},
   "outputs": [
    {
     "data": {
      "text/plain": [
       "['code0',\n",
       " 'code1',\n",
       " 'code2',\n",
       " 'code3',\n",
       " 'code4',\n",
       " 'code5',\n",
       " 'code6',\n",
       " 'code7',\n",
       " 'code8',\n",
       " 'code9']"
      ]
     },
     "execution_count": 23,
     "metadata": {},
     "output_type": "execute_result"
    }
   ],
   "source": [
    "a_list"
   ]
  },
  {
   "cell_type": "code",
   "execution_count": 24,
   "metadata": {},
   "outputs": [],
   "source": [
    "name_label.index = a_list"
   ]
  },
  {
   "cell_type": "code",
   "execution_count": 25,
   "metadata": {},
   "outputs": [
    {
     "data": {
      "text/plain": [
       "code0    튼튼닷컴 밀크씨슬 [6개월분], 1000mg, 1개, 180캡슐 26,900원\n",
       "code1                             지앤씨 밀크시슬, 60정, 1개 \n",
       "code2            종근당건강 헬씨칸 밀크씨슬 영양제, 30정, 2개 23,270원\n",
       "code3             보뚜 간에좋은 밀크씨슬 프리미엄, 150정, 1개 29,900\n",
       "code4       Now Foods 실리마린 밀크 시슬 추출물 300mg 베지 캡슐, 1개\n",
       "code5                                     뉴트리데이 프리미엄\n",
       "code6                  GNM자연의품격 건강한 간 밀크씨슬, 132정, 1개\n",
       "code7                   GNM자연의품격 건강한 간 밀크씨슬, 30정, 6개\n",
       "code8              Swanson 밀크 시슬 500mg 캡슐, 100개입, 1개\n",
       "code9                  한미헬스케어 간에 좋은 밀크씨슬 골드, 90정, 2개\n",
       "dtype: object"
      ]
     },
     "execution_count": 25,
     "metadata": {},
     "output_type": "execute_result"
    }
   ],
   "source": [
    "name_label"
   ]
  },
  {
   "cell_type": "code",
   "execution_count": 26,
   "metadata": {},
   "outputs": [],
   "source": [
    "df.columns = a_list"
   ]
  },
  {
   "cell_type": "code",
   "execution_count": 27,
   "metadata": {},
   "outputs": [
    {
     "data": {
      "text/html": [
       "<div>\n",
       "<style scoped>\n",
       "    .dataframe tbody tr th:only-of-type {\n",
       "        vertical-align: middle;\n",
       "    }\n",
       "\n",
       "    .dataframe tbody tr th {\n",
       "        vertical-align: top;\n",
       "    }\n",
       "\n",
       "    .dataframe thead th {\n",
       "        text-align: right;\n",
       "    }\n",
       "</style>\n",
       "<table border=\"1\" class=\"dataframe\">\n",
       "  <thead>\n",
       "    <tr style=\"text-align: right;\">\n",
       "      <th></th>\n",
       "      <th>code0</th>\n",
       "      <th>code1</th>\n",
       "      <th>code2</th>\n",
       "      <th>code3</th>\n",
       "      <th>code4</th>\n",
       "      <th>code5</th>\n",
       "      <th>code6</th>\n",
       "      <th>code7</th>\n",
       "      <th>code8</th>\n",
       "      <th>code9</th>\n",
       "    </tr>\n",
       "  </thead>\n",
       "  <tbody>\n",
       "    <tr>\n",
       "      <th>0</th>\n",
       "      <td>리베카</td>\n",
       "      <td>겨울온기</td>\n",
       "      <td>서*아</td>\n",
       "      <td>홍*환</td>\n",
       "      <td>쿸쿸쿸</td>\n",
       "      <td>실천의힘</td>\n",
       "      <td>UNIUNI</td>\n",
       "      <td>칠치링</td>\n",
       "      <td>배*웅</td>\n",
       "      <td>리뷰홀릭</td>\n",
       "    </tr>\n",
       "    <tr>\n",
       "      <th>1</th>\n",
       "      <td>제주남</td>\n",
       "      <td>하*희</td>\n",
       "      <td>집노예도비</td>\n",
       "      <td>다없대</td>\n",
       "      <td>전천도</td>\n",
       "      <td>엄*주</td>\n",
       "      <td>또또뿌니율</td>\n",
       "      <td>또또뿌니율</td>\n",
       "      <td>이*범</td>\n",
       "      <td>웅장해진다</td>\n",
       "    </tr>\n",
       "    <tr>\n",
       "      <th>2</th>\n",
       "      <td>나비아씨</td>\n",
       "      <td>솔직냥집사</td>\n",
       "      <td>또또뿌니율</td>\n",
       "      <td>esmooom</td>\n",
       "      <td>오*진</td>\n",
       "      <td>웅장해진다</td>\n",
       "      <td>이이이삼</td>\n",
       "      <td>오*근</td>\n",
       "      <td>웅장해진다</td>\n",
       "      <td>김*래</td>\n",
       "    </tr>\n",
       "    <tr>\n",
       "      <th>3</th>\n",
       "      <td>박*하</td>\n",
       "      <td>윤*우</td>\n",
       "      <td>좋은날들</td>\n",
       "      <td>노란잠수함</td>\n",
       "      <td>까페타임</td>\n",
       "      <td>지앤지앤</td>\n",
       "      <td>박*숙</td>\n",
       "      <td>혼밥녀</td>\n",
       "      <td>까페타임</td>\n",
       "      <td>한보리</td>\n",
       "    </tr>\n",
       "    <tr>\n",
       "      <th>4</th>\n",
       "      <td>유*한</td>\n",
       "      <td>이*인</td>\n",
       "      <td>좋은날들</td>\n",
       "      <td>듀륏cherry</td>\n",
       "      <td>박*대</td>\n",
       "      <td>보석마미</td>\n",
       "      <td>이*영</td>\n",
       "      <td>혼밥녀</td>\n",
       "      <td>웅컁키쿄쿡</td>\n",
       "      <td>이*현</td>\n",
       "    </tr>\n",
       "    <tr>\n",
       "      <th>...</th>\n",
       "      <td>...</td>\n",
       "      <td>...</td>\n",
       "      <td>...</td>\n",
       "      <td>...</td>\n",
       "      <td>...</td>\n",
       "      <td>...</td>\n",
       "      <td>...</td>\n",
       "      <td>...</td>\n",
       "      <td>...</td>\n",
       "      <td>...</td>\n",
       "    </tr>\n",
       "    <tr>\n",
       "      <th>995</th>\n",
       "      <td>NaN</td>\n",
       "      <td>NaN</td>\n",
       "      <td>최*람</td>\n",
       "      <td>최*호</td>\n",
       "      <td>김*애</td>\n",
       "      <td>jj7577</td>\n",
       "      <td>NaN</td>\n",
       "      <td>권*경</td>\n",
       "      <td>최*한</td>\n",
       "      <td>정*희</td>\n",
       "    </tr>\n",
       "    <tr>\n",
       "      <th>996</th>\n",
       "      <td>NaN</td>\n",
       "      <td>NaN</td>\n",
       "      <td>듀듐칫</td>\n",
       "      <td>한*섭</td>\n",
       "      <td>김*목</td>\n",
       "      <td>박*근</td>\n",
       "      <td>NaN</td>\n",
       "      <td>박*승</td>\n",
       "      <td>김*태</td>\n",
       "      <td>이*순</td>\n",
       "    </tr>\n",
       "    <tr>\n",
       "      <th>997</th>\n",
       "      <td>NaN</td>\n",
       "      <td>NaN</td>\n",
       "      <td>Yoonimom</td>\n",
       "      <td>오*준</td>\n",
       "      <td>황*원</td>\n",
       "      <td>정*공</td>\n",
       "      <td>NaN</td>\n",
       "      <td>배미자</td>\n",
       "      <td>최*우</td>\n",
       "      <td>김*영</td>\n",
       "    </tr>\n",
       "    <tr>\n",
       "      <th>998</th>\n",
       "      <td>NaN</td>\n",
       "      <td>NaN</td>\n",
       "      <td>송*진</td>\n",
       "      <td>유*근</td>\n",
       "      <td>심*준</td>\n",
       "      <td>신*철</td>\n",
       "      <td>NaN</td>\n",
       "      <td>정*미</td>\n",
       "      <td>김*숙</td>\n",
       "      <td>정*영</td>\n",
       "    </tr>\n",
       "    <tr>\n",
       "      <th>999</th>\n",
       "      <td>NaN</td>\n",
       "      <td>NaN</td>\n",
       "      <td>송*자</td>\n",
       "      <td>진*현</td>\n",
       "      <td>이*주</td>\n",
       "      <td>산골다래</td>\n",
       "      <td>NaN</td>\n",
       "      <td>박*혁</td>\n",
       "      <td>김*주</td>\n",
       "      <td>오*균</td>\n",
       "    </tr>\n",
       "  </tbody>\n",
       "</table>\n",
       "<p>1000 rows × 10 columns</p>\n",
       "</div>"
      ],
      "text/plain": [
       "     code0   code1      code2      code3  code4    code5    code6   code7  \\\n",
       "0     리베카    겨울온기        서*아        홍*환    쿸쿸쿸     실천의힘   UNIUNI     칠치링    \n",
       "1     제주남     하*희      집노예도비        다없대    전천도      엄*주    또또뿌니율   또또뿌니율    \n",
       "2    나비아씨   솔직냥집사      또또뿌니율    esmooom    오*진    웅장해진다     이이이삼     오*근    \n",
       "3     박*하     윤*우       좋은날들      노란잠수함   까페타임     지앤지앤      박*숙     혼밥녀    \n",
       "4     유*한     이*인       좋은날들   듀륏cherry    박*대     보석마미      이*영     혼밥녀    \n",
       "..     ...     ...        ...        ...    ...      ...      ...     ...   \n",
       "995    NaN     NaN       최*람        최*호    김*애   jj7577       NaN    권*경    \n",
       "996    NaN     NaN       듀듐칫        한*섭    김*목      박*근       NaN    박*승    \n",
       "997    NaN     NaN  Yoonimom        오*준    황*원      정*공       NaN    배미자    \n",
       "998    NaN     NaN       송*진        유*근    심*준      신*철       NaN    정*미    \n",
       "999    NaN     NaN       송*자        진*현    이*주     산골다래       NaN    박*혁    \n",
       "\n",
       "      code8   code9  \n",
       "0      배*웅    리뷰홀릭   \n",
       "1      이*범   웅장해진다   \n",
       "2    웅장해진다     김*래   \n",
       "3     까페타임     한보리   \n",
       "4    웅컁키쿄쿡     이*현   \n",
       "..      ...     ...  \n",
       "995    최*한     정*희   \n",
       "996    김*태     이*순   \n",
       "997    최*우     김*영   \n",
       "998    김*숙     정*영   \n",
       "999    김*주     오*균   \n",
       "\n",
       "[1000 rows x 10 columns]"
      ]
     },
     "execution_count": 27,
     "metadata": {},
     "output_type": "execute_result"
    }
   ],
   "source": [
    "df"
   ]
  },
  {
   "cell_type": "code",
   "execution_count": 28,
   "metadata": {},
   "outputs": [
    {
     "data": {
      "text/plain": [
       "'튼튼닷컴 밀크씨슬 [6개월분], 1000mg, 1개, 180캡슐 26,900원'"
      ]
     },
     "execution_count": 28,
     "metadata": {},
     "output_type": "execute_result"
    }
   ],
   "source": [
    "name_label.code0"
   ]
  },
  {
   "cell_type": "code",
   "execution_count": 29,
   "metadata": {},
   "outputs": [],
   "source": [
    "code0_user =  df.code0"
   ]
  },
  {
   "cell_type": "code",
   "execution_count": 30,
   "metadata": {},
   "outputs": [
    {
     "data": {
      "text/plain": [
       "0       리베카 \n",
       "1       제주남 \n",
       "2      나비아씨 \n",
       "3       박*하 \n",
       "4       유*한 \n",
       "       ...  \n",
       "995      NaN\n",
       "996      NaN\n",
       "997      NaN\n",
       "998      NaN\n",
       "999      NaN\n",
       "Name: code0, Length: 1000, dtype: object"
      ]
     },
     "execution_count": 30,
     "metadata": {},
     "output_type": "execute_result"
    }
   ],
   "source": [
    "code0_user"
   ]
  },
  {
   "cell_type": "code",
   "execution_count": 31,
   "metadata": {},
   "outputs": [
    {
     "data": {
      "text/plain": [
       "0     리베카 \n",
       "1     제주남 \n",
       "2    나비아씨 \n",
       "3     박*하 \n",
       "4     유*한 \n",
       "Name: code0, dtype: object"
      ]
     },
     "execution_count": 31,
     "metadata": {},
     "output_type": "execute_result"
    }
   ],
   "source": [
    "code0_user.head()"
   ]
  },
  {
   "cell_type": "code",
   "execution_count": 32,
   "metadata": {},
   "outputs": [
    {
     "data": {
      "text/plain": [
       "0       리베카 \n",
       "1       제주남 \n",
       "2      나비아씨 \n",
       "3       박*하 \n",
       "4       유*한 \n",
       "       ...  \n",
       "995      NaN\n",
       "996      NaN\n",
       "997      NaN\n",
       "998      NaN\n",
       "999      NaN\n",
       "Name: code0, Length: 1000, dtype: object"
      ]
     },
     "execution_count": 32,
     "metadata": {},
     "output_type": "execute_result"
    }
   ],
   "source": [
    "df['code0']"
   ]
  },
  {
   "cell_type": "code",
   "execution_count": 122,
   "metadata": {
    "scrolled": false
   },
   "outputs": [
    {
     "data": {
      "text/html": [
       "<div>\n",
       "<style scoped>\n",
       "    .dataframe tbody tr th:only-of-type {\n",
       "        vertical-align: middle;\n",
       "    }\n",
       "\n",
       "    .dataframe tbody tr th {\n",
       "        vertical-align: top;\n",
       "    }\n",
       "\n",
       "    .dataframe thead th {\n",
       "        text-align: right;\n",
       "    }\n",
       "</style>\n",
       "<table border=\"1\" class=\"dataframe\">\n",
       "  <thead>\n",
       "    <tr style=\"text-align: right;\">\n",
       "      <th></th>\n",
       "      <th>code0</th>\n",
       "      <th>code1</th>\n",
       "      <th>code2</th>\n",
       "      <th>code3</th>\n",
       "      <th>code4</th>\n",
       "      <th>code5</th>\n",
       "      <th>code6</th>\n",
       "      <th>code7</th>\n",
       "      <th>code8</th>\n",
       "      <th>code9</th>\n",
       "    </tr>\n",
       "  </thead>\n",
       "  <tbody>\n",
       "    <tr>\n",
       "      <th>0</th>\n",
       "      <td>리베카</td>\n",
       "      <td>겨울온기</td>\n",
       "      <td>서*아</td>\n",
       "      <td>홍*환</td>\n",
       "      <td>쿸쿸쿸</td>\n",
       "      <td>실천의힘</td>\n",
       "      <td>UNIUNI</td>\n",
       "      <td>칠치링</td>\n",
       "      <td>배*웅</td>\n",
       "      <td>리뷰홀릭</td>\n",
       "    </tr>\n",
       "    <tr>\n",
       "      <th>1</th>\n",
       "      <td>제주남</td>\n",
       "      <td>하*희</td>\n",
       "      <td>집노예도비</td>\n",
       "      <td>다없대</td>\n",
       "      <td>전천도</td>\n",
       "      <td>엄*주</td>\n",
       "      <td>또또뿌니율</td>\n",
       "      <td>또또뿌니율</td>\n",
       "      <td>이*범</td>\n",
       "      <td>웅장해진다</td>\n",
       "    </tr>\n",
       "    <tr>\n",
       "      <th>2</th>\n",
       "      <td>나비아씨</td>\n",
       "      <td>솔직냥집사</td>\n",
       "      <td>또또뿌니율</td>\n",
       "      <td>esmooom</td>\n",
       "      <td>오*진</td>\n",
       "      <td>웅장해진다</td>\n",
       "      <td>이이이삼</td>\n",
       "      <td>오*근</td>\n",
       "      <td>웅장해진다</td>\n",
       "      <td>김*래</td>\n",
       "    </tr>\n",
       "    <tr>\n",
       "      <th>3</th>\n",
       "      <td>박*하</td>\n",
       "      <td>윤*우</td>\n",
       "      <td>좋은날들</td>\n",
       "      <td>노란잠수함</td>\n",
       "      <td>까페타임</td>\n",
       "      <td>지앤지앤</td>\n",
       "      <td>박*숙</td>\n",
       "      <td>혼밥녀</td>\n",
       "      <td>까페타임</td>\n",
       "      <td>한보리</td>\n",
       "    </tr>\n",
       "    <tr>\n",
       "      <th>4</th>\n",
       "      <td>유*한</td>\n",
       "      <td>이*인</td>\n",
       "      <td>좋은날들</td>\n",
       "      <td>듀륏cherry</td>\n",
       "      <td>박*대</td>\n",
       "      <td>보석마미</td>\n",
       "      <td>이*영</td>\n",
       "      <td>혼밥녀</td>\n",
       "      <td>웅컁키쿄쿡</td>\n",
       "      <td>이*현</td>\n",
       "    </tr>\n",
       "    <tr>\n",
       "      <th>...</th>\n",
       "      <td>...</td>\n",
       "      <td>...</td>\n",
       "      <td>...</td>\n",
       "      <td>...</td>\n",
       "      <td>...</td>\n",
       "      <td>...</td>\n",
       "      <td>...</td>\n",
       "      <td>...</td>\n",
       "      <td>...</td>\n",
       "      <td>...</td>\n",
       "    </tr>\n",
       "    <tr>\n",
       "      <th>995</th>\n",
       "      <td>NaN</td>\n",
       "      <td>NaN</td>\n",
       "      <td>최*람</td>\n",
       "      <td>최*호</td>\n",
       "      <td>김*애</td>\n",
       "      <td>jj7577</td>\n",
       "      <td>NaN</td>\n",
       "      <td>권*경</td>\n",
       "      <td>최*한</td>\n",
       "      <td>정*희</td>\n",
       "    </tr>\n",
       "    <tr>\n",
       "      <th>996</th>\n",
       "      <td>NaN</td>\n",
       "      <td>NaN</td>\n",
       "      <td>듀듐칫</td>\n",
       "      <td>한*섭</td>\n",
       "      <td>김*목</td>\n",
       "      <td>박*근</td>\n",
       "      <td>NaN</td>\n",
       "      <td>박*승</td>\n",
       "      <td>김*태</td>\n",
       "      <td>이*순</td>\n",
       "    </tr>\n",
       "    <tr>\n",
       "      <th>997</th>\n",
       "      <td>NaN</td>\n",
       "      <td>NaN</td>\n",
       "      <td>Yoonimom</td>\n",
       "      <td>오*준</td>\n",
       "      <td>황*원</td>\n",
       "      <td>정*공</td>\n",
       "      <td>NaN</td>\n",
       "      <td>배미자</td>\n",
       "      <td>최*우</td>\n",
       "      <td>김*영</td>\n",
       "    </tr>\n",
       "    <tr>\n",
       "      <th>998</th>\n",
       "      <td>NaN</td>\n",
       "      <td>NaN</td>\n",
       "      <td>송*진</td>\n",
       "      <td>유*근</td>\n",
       "      <td>심*준</td>\n",
       "      <td>신*철</td>\n",
       "      <td>NaN</td>\n",
       "      <td>정*미</td>\n",
       "      <td>김*숙</td>\n",
       "      <td>정*영</td>\n",
       "    </tr>\n",
       "    <tr>\n",
       "      <th>999</th>\n",
       "      <td>NaN</td>\n",
       "      <td>NaN</td>\n",
       "      <td>송*자</td>\n",
       "      <td>진*현</td>\n",
       "      <td>이*주</td>\n",
       "      <td>산골다래</td>\n",
       "      <td>NaN</td>\n",
       "      <td>박*혁</td>\n",
       "      <td>김*주</td>\n",
       "      <td>오*균</td>\n",
       "    </tr>\n",
       "  </tbody>\n",
       "</table>\n",
       "<p>1000 rows × 10 columns</p>\n",
       "</div>"
      ],
      "text/plain": [
       "     code0   code1      code2      code3  code4    code5    code6   code7  \\\n",
       "0     리베카    겨울온기        서*아        홍*환    쿸쿸쿸     실천의힘   UNIUNI     칠치링    \n",
       "1     제주남     하*희      집노예도비        다없대    전천도      엄*주    또또뿌니율   또또뿌니율    \n",
       "2    나비아씨   솔직냥집사      또또뿌니율    esmooom    오*진    웅장해진다     이이이삼     오*근    \n",
       "3     박*하     윤*우       좋은날들      노란잠수함   까페타임     지앤지앤      박*숙     혼밥녀    \n",
       "4     유*한     이*인       좋은날들   듀륏cherry    박*대     보석마미      이*영     혼밥녀    \n",
       "..     ...     ...        ...        ...    ...      ...      ...     ...   \n",
       "995    NaN     NaN       최*람        최*호    김*애   jj7577       NaN    권*경    \n",
       "996    NaN     NaN       듀듐칫        한*섭    김*목      박*근       NaN    박*승    \n",
       "997    NaN     NaN  Yoonimom        오*준    황*원      정*공       NaN    배미자    \n",
       "998    NaN     NaN       송*진        유*근    심*준      신*철       NaN    정*미    \n",
       "999    NaN     NaN       송*자        진*현    이*주     산골다래       NaN    박*혁    \n",
       "\n",
       "      code8   code9  \n",
       "0      배*웅    리뷰홀릭   \n",
       "1      이*범   웅장해진다   \n",
       "2    웅장해진다     김*래   \n",
       "3     까페타임     한보리   \n",
       "4    웅컁키쿄쿡     이*현   \n",
       "..      ...     ...  \n",
       "995    최*한     정*희   \n",
       "996    김*태     이*순   \n",
       "997    최*우     김*영   \n",
       "998    김*숙     정*영   \n",
       "999    김*주     오*균   \n",
       "\n",
       "[1000 rows x 10 columns]"
      ]
     },
     "execution_count": 122,
     "metadata": {},
     "output_type": "execute_result"
    }
   ],
   "source": [
    "df[df.columns]"
   ]
  },
  {
   "cell_type": "code",
   "execution_count": 124,
   "metadata": {},
   "outputs": [
    {
     "data": {
      "text/plain": [
       "Index(['code0', 'code1', 'code2', 'code3', 'code4', 'code5', 'code6', 'code7',\n",
       "       'code8', 'code9'],\n",
       "      dtype='object')"
      ]
     },
     "execution_count": 124,
     "metadata": {},
     "output_type": "execute_result"
    }
   ],
   "source": [
    "df.columns"
   ]
  },
  {
   "cell_type": "code",
   "execution_count": 160,
   "metadata": {},
   "outputs": [],
   "source": [
    "# 사람리스트 만들기\n",
    "name_list = []\n",
    "for cname in df.columns:\n",
    "    name_list.append(df[cname])\n",
    "\n",
    "    \n",
    "    "
   ]
  },
  {
   "cell_type": "code",
   "execution_count": 161,
   "metadata": {},
   "outputs": [
    {
     "data": {
      "text/plain": [
       "[0       리베카 \n",
       " 1       제주남 \n",
       " 2      나비아씨 \n",
       " 3       박*하 \n",
       " 4       유*한 \n",
       "        ...  \n",
       " 995      NaN\n",
       " 996      NaN\n",
       " 997      NaN\n",
       " 998      NaN\n",
       " 999      NaN\n",
       " Name: code0, Length: 1000, dtype: object,\n",
       " 0       겨울온기 \n",
       " 1        하*희 \n",
       " 2      솔직냥집사 \n",
       " 3        윤*우 \n",
       " 4        이*인 \n",
       "         ...  \n",
       " 995       NaN\n",
       " 996       NaN\n",
       " 997       NaN\n",
       " 998       NaN\n",
       " 999       NaN\n",
       " Name: code1, Length: 1000, dtype: object,\n",
       " 0           서*아 \n",
       " 1         집노예도비 \n",
       " 2         또또뿌니율 \n",
       " 3          좋은날들 \n",
       " 4          좋은날들 \n",
       "          ...    \n",
       " 995         최*람 \n",
       " 996         듀듐칫 \n",
       " 997    Yoonimom \n",
       " 998         송*진 \n",
       " 999         송*자 \n",
       " Name: code2, Length: 1000, dtype: object,\n",
       " 0           홍*환 \n",
       " 1           다없대 \n",
       " 2       esmooom \n",
       " 3         노란잠수함 \n",
       " 4      듀륏cherry \n",
       "          ...    \n",
       " 995         최*호 \n",
       " 996         한*섭 \n",
       " 997         오*준 \n",
       " 998         유*근 \n",
       " 999         진*현 \n",
       " Name: code3, Length: 1000, dtype: object,\n",
       " 0       쿸쿸쿸 \n",
       " 1       전천도 \n",
       " 2       오*진 \n",
       " 3      까페타임 \n",
       " 4       박*대 \n",
       "        ...  \n",
       " 995     김*애 \n",
       " 996     김*목 \n",
       " 997     황*원 \n",
       " 998     심*준 \n",
       " 999     이*주 \n",
       " Name: code4, Length: 1000, dtype: object,\n",
       " 0        실천의힘 \n",
       " 1         엄*주 \n",
       " 2       웅장해진다 \n",
       " 3        지앤지앤 \n",
       " 4        보석마미 \n",
       "         ...   \n",
       " 995    jj7577 \n",
       " 996       박*근 \n",
       " 997       정*공 \n",
       " 998       신*철 \n",
       " 999      산골다래 \n",
       " Name: code5, Length: 1000, dtype: object,\n",
       " 0      UNIUNI \n",
       " 1       또또뿌니율 \n",
       " 2        이이이삼 \n",
       " 3         박*숙 \n",
       " 4         이*영 \n",
       "         ...   \n",
       " 995        NaN\n",
       " 996        NaN\n",
       " 997        NaN\n",
       " 998        NaN\n",
       " 999        NaN\n",
       " Name: code6, Length: 1000, dtype: object,\n",
       " 0        칠치링 \n",
       " 1      또또뿌니율 \n",
       " 2        오*근 \n",
       " 3        혼밥녀 \n",
       " 4        혼밥녀 \n",
       "         ...  \n",
       " 995      권*경 \n",
       " 996      박*승 \n",
       " 997      배미자 \n",
       " 998      정*미 \n",
       " 999      박*혁 \n",
       " Name: code7, Length: 1000, dtype: object,\n",
       " 0        배*웅 \n",
       " 1        이*범 \n",
       " 2      웅장해진다 \n",
       " 3       까페타임 \n",
       " 4      웅컁키쿄쿡 \n",
       "         ...  \n",
       " 995      최*한 \n",
       " 996      김*태 \n",
       " 997      최*우 \n",
       " 998      김*숙 \n",
       " 999      김*주 \n",
       " Name: code8, Length: 1000, dtype: object,\n",
       " 0       리뷰홀릭 \n",
       " 1      웅장해진다 \n",
       " 2        김*래 \n",
       " 3        한보리 \n",
       " 4        이*현 \n",
       "         ...  \n",
       " 995      정*희 \n",
       " 996      이*순 \n",
       " 997      김*영 \n",
       " 998      정*영 \n",
       " 999      오*균 \n",
       " Name: code9, Length: 1000, dtype: object]"
      ]
     },
     "execution_count": 161,
     "metadata": {},
     "output_type": "execute_result"
    }
   ],
   "source": [
    "name_list"
   ]
  },
  {
   "cell_type": "code",
   "execution_count": 199,
   "metadata": {},
   "outputs": [],
   "source": [
    "import numpy as np"
   ]
  },
  {
   "cell_type": "code",
   "execution_count": 200,
   "metadata": {},
   "outputs": [],
   "source": [
    "name_list = np.array(name_list)"
   ]
  },
  {
   "cell_type": "code",
   "execution_count": 201,
   "metadata": {},
   "outputs": [
    {
     "data": {
      "text/plain": [
       "(3713,)"
      ]
     },
     "execution_count": 201,
     "metadata": {},
     "output_type": "execute_result"
    }
   ],
   "source": [
    "name_list.shape"
   ]
  },
  {
   "cell_type": "code",
   "execution_count": 202,
   "metadata": {},
   "outputs": [],
   "source": [
    "name_list= name_list.flatten()"
   ]
  },
  {
   "cell_type": "code",
   "execution_count": 203,
   "metadata": {},
   "outputs": [
    {
     "data": {
      "text/plain": [
       "(3713,)"
      ]
     },
     "execution_count": 203,
     "metadata": {},
     "output_type": "execute_result"
    }
   ],
   "source": [
    "name_list.shape"
   ]
  },
  {
   "cell_type": "code",
   "execution_count": 204,
   "metadata": {
    "scrolled": true
   },
   "outputs": [
    {
     "data": {
      "text/plain": [
       "array(['nan', '나*우 ', '함*화 ', ..., '김*례 ', '배*우 ', '임*건 '], dtype='<U32')"
      ]
     },
     "execution_count": 204,
     "metadata": {},
     "output_type": "execute_result"
    }
   ],
   "source": [
    "name_list[:]"
   ]
  },
  {
   "cell_type": "code",
   "execution_count": 205,
   "metadata": {},
   "outputs": [],
   "source": [
    "name_list = np.array( list(set(name_list)))   # 사람이름 중복 제거"
   ]
  },
  {
   "cell_type": "code",
   "execution_count": 206,
   "metadata": {},
   "outputs": [
    {
     "data": {
      "text/plain": [
       "(3713,)"
      ]
     },
     "execution_count": 206,
     "metadata": {},
     "output_type": "execute_result"
    }
   ],
   "source": [
    "name_list.shape         #사람이름의 수 확인"
   ]
  },
  {
   "cell_type": "code",
   "execution_count": 207,
   "metadata": {},
   "outputs": [
    {
     "data": {
      "text/plain": [
       "True"
      ]
     },
     "execution_count": 207,
     "metadata": {},
     "output_type": "execute_result"
    }
   ],
   "source": [
    "'리베카 ' in name_list"
   ]
  },
  {
   "cell_type": "code",
   "execution_count": 208,
   "metadata": {},
   "outputs": [],
   "source": [
    "data = np.zeros((3713,10))"
   ]
  },
  {
   "cell_type": "code",
   "execution_count": 209,
   "metadata": {},
   "outputs": [],
   "source": [
    "df2 = pd.DataFrame(data)"
   ]
  },
  {
   "cell_type": "code",
   "execution_count": 210,
   "metadata": {},
   "outputs": [],
   "source": [
    "df2.index = name_list"
   ]
  },
  {
   "cell_type": "code",
   "execution_count": 211,
   "metadata": {},
   "outputs": [],
   "source": [
    "df2.columns = a_list"
   ]
  },
  {
   "cell_type": "code",
   "execution_count": 212,
   "metadata": {
    "scrolled": true
   },
   "outputs": [
    {
     "data": {
      "text/html": [
       "<div>\n",
       "<style scoped>\n",
       "    .dataframe tbody tr th:only-of-type {\n",
       "        vertical-align: middle;\n",
       "    }\n",
       "\n",
       "    .dataframe tbody tr th {\n",
       "        vertical-align: top;\n",
       "    }\n",
       "\n",
       "    .dataframe thead th {\n",
       "        text-align: right;\n",
       "    }\n",
       "</style>\n",
       "<table border=\"1\" class=\"dataframe\">\n",
       "  <thead>\n",
       "    <tr style=\"text-align: right;\">\n",
       "      <th></th>\n",
       "      <th>code0</th>\n",
       "      <th>code1</th>\n",
       "      <th>code2</th>\n",
       "      <th>code3</th>\n",
       "      <th>code4</th>\n",
       "      <th>code5</th>\n",
       "      <th>code6</th>\n",
       "      <th>code7</th>\n",
       "      <th>code8</th>\n",
       "      <th>code9</th>\n",
       "    </tr>\n",
       "  </thead>\n",
       "  <tbody>\n",
       "    <tr>\n",
       "      <th>나*우</th>\n",
       "      <td>0.0</td>\n",
       "      <td>0.0</td>\n",
       "      <td>0.0</td>\n",
       "      <td>0.0</td>\n",
       "      <td>0.0</td>\n",
       "      <td>0.0</td>\n",
       "      <td>0.0</td>\n",
       "      <td>0.0</td>\n",
       "      <td>0.0</td>\n",
       "      <td>0.0</td>\n",
       "    </tr>\n",
       "    <tr>\n",
       "      <th>함*화</th>\n",
       "      <td>0.0</td>\n",
       "      <td>0.0</td>\n",
       "      <td>0.0</td>\n",
       "      <td>0.0</td>\n",
       "      <td>0.0</td>\n",
       "      <td>0.0</td>\n",
       "      <td>0.0</td>\n",
       "      <td>0.0</td>\n",
       "      <td>0.0</td>\n",
       "      <td>0.0</td>\n",
       "    </tr>\n",
       "    <tr>\n",
       "      <th>노*정</th>\n",
       "      <td>0.0</td>\n",
       "      <td>0.0</td>\n",
       "      <td>0.0</td>\n",
       "      <td>0.0</td>\n",
       "      <td>0.0</td>\n",
       "      <td>0.0</td>\n",
       "      <td>0.0</td>\n",
       "      <td>0.0</td>\n",
       "      <td>0.0</td>\n",
       "      <td>0.0</td>\n",
       "    </tr>\n",
       "    <tr>\n",
       "      <th>소소루</th>\n",
       "      <td>0.0</td>\n",
       "      <td>0.0</td>\n",
       "      <td>0.0</td>\n",
       "      <td>0.0</td>\n",
       "      <td>0.0</td>\n",
       "      <td>0.0</td>\n",
       "      <td>0.0</td>\n",
       "      <td>0.0</td>\n",
       "      <td>0.0</td>\n",
       "      <td>0.0</td>\n",
       "    </tr>\n",
       "    <tr>\n",
       "      <th>오*림</th>\n",
       "      <td>0.0</td>\n",
       "      <td>0.0</td>\n",
       "      <td>0.0</td>\n",
       "      <td>0.0</td>\n",
       "      <td>0.0</td>\n",
       "      <td>0.0</td>\n",
       "      <td>0.0</td>\n",
       "      <td>0.0</td>\n",
       "      <td>0.0</td>\n",
       "      <td>0.0</td>\n",
       "    </tr>\n",
       "    <tr>\n",
       "      <th>...</th>\n",
       "      <td>...</td>\n",
       "      <td>...</td>\n",
       "      <td>...</td>\n",
       "      <td>...</td>\n",
       "      <td>...</td>\n",
       "      <td>...</td>\n",
       "      <td>...</td>\n",
       "      <td>...</td>\n",
       "      <td>...</td>\n",
       "      <td>...</td>\n",
       "    </tr>\n",
       "    <tr>\n",
       "      <th>이*은</th>\n",
       "      <td>0.0</td>\n",
       "      <td>0.0</td>\n",
       "      <td>0.0</td>\n",
       "      <td>0.0</td>\n",
       "      <td>0.0</td>\n",
       "      <td>0.0</td>\n",
       "      <td>0.0</td>\n",
       "      <td>0.0</td>\n",
       "      <td>0.0</td>\n",
       "      <td>0.0</td>\n",
       "    </tr>\n",
       "    <tr>\n",
       "      <th>장*현</th>\n",
       "      <td>0.0</td>\n",
       "      <td>0.0</td>\n",
       "      <td>0.0</td>\n",
       "      <td>0.0</td>\n",
       "      <td>0.0</td>\n",
       "      <td>0.0</td>\n",
       "      <td>0.0</td>\n",
       "      <td>0.0</td>\n",
       "      <td>0.0</td>\n",
       "      <td>0.0</td>\n",
       "    </tr>\n",
       "    <tr>\n",
       "      <th>김*례</th>\n",
       "      <td>0.0</td>\n",
       "      <td>0.0</td>\n",
       "      <td>0.0</td>\n",
       "      <td>0.0</td>\n",
       "      <td>0.0</td>\n",
       "      <td>0.0</td>\n",
       "      <td>0.0</td>\n",
       "      <td>0.0</td>\n",
       "      <td>0.0</td>\n",
       "      <td>0.0</td>\n",
       "    </tr>\n",
       "    <tr>\n",
       "      <th>배*우</th>\n",
       "      <td>0.0</td>\n",
       "      <td>0.0</td>\n",
       "      <td>0.0</td>\n",
       "      <td>0.0</td>\n",
       "      <td>0.0</td>\n",
       "      <td>0.0</td>\n",
       "      <td>0.0</td>\n",
       "      <td>0.0</td>\n",
       "      <td>0.0</td>\n",
       "      <td>0.0</td>\n",
       "    </tr>\n",
       "    <tr>\n",
       "      <th>임*건</th>\n",
       "      <td>0.0</td>\n",
       "      <td>0.0</td>\n",
       "      <td>0.0</td>\n",
       "      <td>0.0</td>\n",
       "      <td>0.0</td>\n",
       "      <td>0.0</td>\n",
       "      <td>0.0</td>\n",
       "      <td>0.0</td>\n",
       "      <td>0.0</td>\n",
       "      <td>0.0</td>\n",
       "    </tr>\n",
       "  </tbody>\n",
       "</table>\n",
       "<p>3713 rows × 10 columns</p>\n",
       "</div>"
      ],
      "text/plain": [
       "      code0  code1  code2  code3  code4  code5  code6  code7  code8  code9\n",
       "나*우     0.0    0.0    0.0    0.0    0.0    0.0    0.0    0.0    0.0    0.0\n",
       "함*화     0.0    0.0    0.0    0.0    0.0    0.0    0.0    0.0    0.0    0.0\n",
       "노*정     0.0    0.0    0.0    0.0    0.0    0.0    0.0    0.0    0.0    0.0\n",
       "소소루     0.0    0.0    0.0    0.0    0.0    0.0    0.0    0.0    0.0    0.0\n",
       "오*림     0.0    0.0    0.0    0.0    0.0    0.0    0.0    0.0    0.0    0.0\n",
       "...     ...    ...    ...    ...    ...    ...    ...    ...    ...    ...\n",
       "이*은     0.0    0.0    0.0    0.0    0.0    0.0    0.0    0.0    0.0    0.0\n",
       "장*현     0.0    0.0    0.0    0.0    0.0    0.0    0.0    0.0    0.0    0.0\n",
       "김*례     0.0    0.0    0.0    0.0    0.0    0.0    0.0    0.0    0.0    0.0\n",
       "배*우     0.0    0.0    0.0    0.0    0.0    0.0    0.0    0.0    0.0    0.0\n",
       "임*건     0.0    0.0    0.0    0.0    0.0    0.0    0.0    0.0    0.0    0.0\n",
       "\n",
       "[3713 rows x 10 columns]"
      ]
     },
     "execution_count": 212,
     "metadata": {},
     "output_type": "execute_result"
    }
   ],
   "source": [
    "df2"
   ]
  },
  {
   "cell_type": "code",
   "execution_count": 180,
   "metadata": {},
   "outputs": [
    {
     "data": {
      "text/plain": [
       "True"
      ]
     },
     "execution_count": 180,
     "metadata": {},
     "output_type": "execute_result"
    }
   ],
   "source": [
    "'리베카 ' in df2.index"
   ]
  },
  {
   "cell_type": "code",
   "execution_count": 82,
   "metadata": {
    "scrolled": true
   },
   "outputs": [
    {
     "data": {
      "text/html": [
       "<div>\n",
       "<style scoped>\n",
       "    .dataframe tbody tr th:only-of-type {\n",
       "        vertical-align: middle;\n",
       "    }\n",
       "\n",
       "    .dataframe tbody tr th {\n",
       "        vertical-align: top;\n",
       "    }\n",
       "\n",
       "    .dataframe thead th {\n",
       "        text-align: right;\n",
       "    }\n",
       "</style>\n",
       "<table border=\"1\" class=\"dataframe\">\n",
       "  <thead>\n",
       "    <tr style=\"text-align: right;\">\n",
       "      <th></th>\n",
       "      <th>code0</th>\n",
       "      <th>code1</th>\n",
       "      <th>code2</th>\n",
       "      <th>code3</th>\n",
       "      <th>code4</th>\n",
       "      <th>code5</th>\n",
       "      <th>code6</th>\n",
       "      <th>code7</th>\n",
       "      <th>code8</th>\n",
       "      <th>code9</th>\n",
       "    </tr>\n",
       "  </thead>\n",
       "  <tbody>\n",
       "    <tr>\n",
       "      <th>0</th>\n",
       "      <td>리베카</td>\n",
       "      <td>겨울온기</td>\n",
       "      <td>서*아</td>\n",
       "      <td>홍*환</td>\n",
       "      <td>쿸쿸쿸</td>\n",
       "      <td>실천의힘</td>\n",
       "      <td>UNIUNI</td>\n",
       "      <td>칠치링</td>\n",
       "      <td>배*웅</td>\n",
       "      <td>리뷰홀릭</td>\n",
       "    </tr>\n",
       "    <tr>\n",
       "      <th>1</th>\n",
       "      <td>제주남</td>\n",
       "      <td>하*희</td>\n",
       "      <td>집노예도비</td>\n",
       "      <td>다없대</td>\n",
       "      <td>전천도</td>\n",
       "      <td>엄*주</td>\n",
       "      <td>또또뿌니율</td>\n",
       "      <td>또또뿌니율</td>\n",
       "      <td>이*범</td>\n",
       "      <td>웅장해진다</td>\n",
       "    </tr>\n",
       "    <tr>\n",
       "      <th>2</th>\n",
       "      <td>나비아씨</td>\n",
       "      <td>솔직냥집사</td>\n",
       "      <td>또또뿌니율</td>\n",
       "      <td>esmooom</td>\n",
       "      <td>오*진</td>\n",
       "      <td>웅장해진다</td>\n",
       "      <td>이이이삼</td>\n",
       "      <td>오*근</td>\n",
       "      <td>웅장해진다</td>\n",
       "      <td>김*래</td>\n",
       "    </tr>\n",
       "    <tr>\n",
       "      <th>3</th>\n",
       "      <td>박*하</td>\n",
       "      <td>윤*우</td>\n",
       "      <td>좋은날들</td>\n",
       "      <td>노란잠수함</td>\n",
       "      <td>까페타임</td>\n",
       "      <td>지앤지앤</td>\n",
       "      <td>박*숙</td>\n",
       "      <td>혼밥녀</td>\n",
       "      <td>까페타임</td>\n",
       "      <td>한보리</td>\n",
       "    </tr>\n",
       "    <tr>\n",
       "      <th>4</th>\n",
       "      <td>유*한</td>\n",
       "      <td>이*인</td>\n",
       "      <td>좋은날들</td>\n",
       "      <td>듀륏cherry</td>\n",
       "      <td>박*대</td>\n",
       "      <td>보석마미</td>\n",
       "      <td>이*영</td>\n",
       "      <td>혼밥녀</td>\n",
       "      <td>웅컁키쿄쿡</td>\n",
       "      <td>이*현</td>\n",
       "    </tr>\n",
       "    <tr>\n",
       "      <th>...</th>\n",
       "      <td>...</td>\n",
       "      <td>...</td>\n",
       "      <td>...</td>\n",
       "      <td>...</td>\n",
       "      <td>...</td>\n",
       "      <td>...</td>\n",
       "      <td>...</td>\n",
       "      <td>...</td>\n",
       "      <td>...</td>\n",
       "      <td>...</td>\n",
       "    </tr>\n",
       "    <tr>\n",
       "      <th>995</th>\n",
       "      <td>NaN</td>\n",
       "      <td>NaN</td>\n",
       "      <td>최*람</td>\n",
       "      <td>최*호</td>\n",
       "      <td>김*애</td>\n",
       "      <td>jj7577</td>\n",
       "      <td>NaN</td>\n",
       "      <td>권*경</td>\n",
       "      <td>최*한</td>\n",
       "      <td>정*희</td>\n",
       "    </tr>\n",
       "    <tr>\n",
       "      <th>996</th>\n",
       "      <td>NaN</td>\n",
       "      <td>NaN</td>\n",
       "      <td>듀듐칫</td>\n",
       "      <td>한*섭</td>\n",
       "      <td>김*목</td>\n",
       "      <td>박*근</td>\n",
       "      <td>NaN</td>\n",
       "      <td>박*승</td>\n",
       "      <td>김*태</td>\n",
       "      <td>이*순</td>\n",
       "    </tr>\n",
       "    <tr>\n",
       "      <th>997</th>\n",
       "      <td>NaN</td>\n",
       "      <td>NaN</td>\n",
       "      <td>Yoonimom</td>\n",
       "      <td>오*준</td>\n",
       "      <td>황*원</td>\n",
       "      <td>정*공</td>\n",
       "      <td>NaN</td>\n",
       "      <td>배미자</td>\n",
       "      <td>최*우</td>\n",
       "      <td>김*영</td>\n",
       "    </tr>\n",
       "    <tr>\n",
       "      <th>998</th>\n",
       "      <td>NaN</td>\n",
       "      <td>NaN</td>\n",
       "      <td>송*진</td>\n",
       "      <td>유*근</td>\n",
       "      <td>심*준</td>\n",
       "      <td>신*철</td>\n",
       "      <td>NaN</td>\n",
       "      <td>정*미</td>\n",
       "      <td>김*숙</td>\n",
       "      <td>정*영</td>\n",
       "    </tr>\n",
       "    <tr>\n",
       "      <th>999</th>\n",
       "      <td>NaN</td>\n",
       "      <td>NaN</td>\n",
       "      <td>송*자</td>\n",
       "      <td>진*현</td>\n",
       "      <td>이*주</td>\n",
       "      <td>산골다래</td>\n",
       "      <td>NaN</td>\n",
       "      <td>박*혁</td>\n",
       "      <td>김*주</td>\n",
       "      <td>오*균</td>\n",
       "    </tr>\n",
       "  </tbody>\n",
       "</table>\n",
       "<p>1000 rows × 10 columns</p>\n",
       "</div>"
      ],
      "text/plain": [
       "     code0   code1      code2      code3  code4    code5    code6   code7  \\\n",
       "0     리베카    겨울온기        서*아        홍*환    쿸쿸쿸     실천의힘   UNIUNI     칠치링    \n",
       "1     제주남     하*희      집노예도비        다없대    전천도      엄*주    또또뿌니율   또또뿌니율    \n",
       "2    나비아씨   솔직냥집사      또또뿌니율    esmooom    오*진    웅장해진다     이이이삼     오*근    \n",
       "3     박*하     윤*우       좋은날들      노란잠수함   까페타임     지앤지앤      박*숙     혼밥녀    \n",
       "4     유*한     이*인       좋은날들   듀륏cherry    박*대     보석마미      이*영     혼밥녀    \n",
       "..     ...     ...        ...        ...    ...      ...      ...     ...   \n",
       "995    NaN     NaN       최*람        최*호    김*애   jj7577       NaN    권*경    \n",
       "996    NaN     NaN       듀듐칫        한*섭    김*목      박*근       NaN    박*승    \n",
       "997    NaN     NaN  Yoonimom        오*준    황*원      정*공       NaN    배미자    \n",
       "998    NaN     NaN       송*진        유*근    심*준      신*철       NaN    정*미    \n",
       "999    NaN     NaN       송*자        진*현    이*주     산골다래       NaN    박*혁    \n",
       "\n",
       "      code8   code9  \n",
       "0      배*웅    리뷰홀릭   \n",
       "1      이*범   웅장해진다   \n",
       "2    웅장해진다     김*래   \n",
       "3     까페타임     한보리   \n",
       "4    웅컁키쿄쿡     이*현   \n",
       "..      ...     ...  \n",
       "995    최*한     정*희   \n",
       "996    김*태     이*순   \n",
       "997    최*우     김*영   \n",
       "998    김*숙     정*영   \n",
       "999    김*주     오*균   \n",
       "\n",
       "[1000 rows x 10 columns]"
      ]
     },
     "execution_count": 82,
     "metadata": {},
     "output_type": "execute_result"
    }
   ],
   "source": [
    "df"
   ]
  },
  {
   "cell_type": "code",
   "execution_count": 97,
   "metadata": {},
   "outputs": [],
   "source": [
    "# 사용자명을 매개변수로 전달받아 구입한 상품명들을 리스트로 반환하는 함수 정의\n",
    "def getBuy(username):\n",
    "    buy_list = []\n",
    "    for col in df.columns:\n",
    "        if username in str(df[col]):\n",
    "            buy_list.append(col)\n",
    "    return list(set(buy_list))"
   ]
  },
  {
   "cell_type": "code",
   "execution_count": 153,
   "metadata": {},
   "outputs": [
    {
     "data": {
      "text/plain": [
       "[]"
      ]
     },
     "execution_count": 153,
     "metadata": {},
     "output_type": "execute_result"
    }
   ],
   "source": [
    "getBuy('함*화 ')"
   ]
  },
  {
   "cell_type": "code",
   "execution_count": 99,
   "metadata": {},
   "outputs": [
    {
     "data": {
      "text/plain": [
       "['code7', 'code2', 'code6']"
      ]
     },
     "execution_count": 99,
     "metadata": {},
     "output_type": "execute_result"
    }
   ],
   "source": [
    "test"
   ]
  },
  {
   "cell_type": "code",
   "execution_count": 120,
   "metadata": {},
   "outputs": [
    {
     "data": {
      "text/plain": [
       "array(['nan', '나*우 ', '함*화 ', ..., '김*례 ', '배*우 ', '임*건 '], dtype='<U32')"
      ]
     },
     "execution_count": 120,
     "metadata": {},
     "output_type": "execute_result"
    }
   ],
   "source": [
    "name_list[:]"
   ]
  },
  {
   "cell_type": "code",
   "execution_count": 104,
   "metadata": {},
   "outputs": [],
   "source": [
    "# df2 데이터 프레임\n",
    "# index 고객명\n",
    "# colum 상품명\n",
    "# 구입여부 0,1로 설정"
   ]
  },
  {
   "cell_type": "code",
   "execution_count": 154,
   "metadata": {},
   "outputs": [
    {
     "data": {
      "text/plain": [
       "array(['nan', '나*우 ', '함*화 ', '노*정 ', '소소루 ', '오*림 ', '백*술 ', '합리적소비 ',\n",
       "       '임*한 ', '장* '], dtype='<U32')"
      ]
     },
     "execution_count": 154,
     "metadata": {},
     "output_type": "execute_result"
    }
   ],
   "source": [
    "name_list[:10]"
   ]
  },
  {
   "cell_type": "code",
   "execution_count": 126,
   "metadata": {},
   "outputs": [
    {
     "data": {
      "text/html": [
       "<div>\n",
       "<style scoped>\n",
       "    .dataframe tbody tr th:only-of-type {\n",
       "        vertical-align: middle;\n",
       "    }\n",
       "\n",
       "    .dataframe tbody tr th {\n",
       "        vertical-align: top;\n",
       "    }\n",
       "\n",
       "    .dataframe thead th {\n",
       "        text-align: right;\n",
       "    }\n",
       "</style>\n",
       "<table border=\"1\" class=\"dataframe\">\n",
       "  <thead>\n",
       "    <tr style=\"text-align: right;\">\n",
       "      <th></th>\n",
       "      <th>code0</th>\n",
       "      <th>code1</th>\n",
       "      <th>code2</th>\n",
       "      <th>code3</th>\n",
       "      <th>code4</th>\n",
       "      <th>code5</th>\n",
       "      <th>code6</th>\n",
       "      <th>code7</th>\n",
       "      <th>code8</th>\n",
       "      <th>code9</th>\n",
       "    </tr>\n",
       "  </thead>\n",
       "  <tbody>\n",
       "    <tr>\n",
       "      <th>nan</th>\n",
       "      <td>0.0</td>\n",
       "      <td>0.0</td>\n",
       "      <td>0.0</td>\n",
       "      <td>0.0</td>\n",
       "      <td>0.0</td>\n",
       "      <td>0.0</td>\n",
       "      <td>0.0</td>\n",
       "      <td>0.0</td>\n",
       "      <td>0.0</td>\n",
       "      <td>0.0</td>\n",
       "    </tr>\n",
       "    <tr>\n",
       "      <th>나*우</th>\n",
       "      <td>0.0</td>\n",
       "      <td>0.0</td>\n",
       "      <td>0.0</td>\n",
       "      <td>0.0</td>\n",
       "      <td>0.0</td>\n",
       "      <td>0.0</td>\n",
       "      <td>0.0</td>\n",
       "      <td>0.0</td>\n",
       "      <td>0.0</td>\n",
       "      <td>0.0</td>\n",
       "    </tr>\n",
       "    <tr>\n",
       "      <th>함*화</th>\n",
       "      <td>0.0</td>\n",
       "      <td>0.0</td>\n",
       "      <td>0.0</td>\n",
       "      <td>0.0</td>\n",
       "      <td>0.0</td>\n",
       "      <td>0.0</td>\n",
       "      <td>0.0</td>\n",
       "      <td>0.0</td>\n",
       "      <td>0.0</td>\n",
       "      <td>0.0</td>\n",
       "    </tr>\n",
       "    <tr>\n",
       "      <th>노*정</th>\n",
       "      <td>0.0</td>\n",
       "      <td>0.0</td>\n",
       "      <td>0.0</td>\n",
       "      <td>0.0</td>\n",
       "      <td>0.0</td>\n",
       "      <td>0.0</td>\n",
       "      <td>0.0</td>\n",
       "      <td>0.0</td>\n",
       "      <td>0.0</td>\n",
       "      <td>0.0</td>\n",
       "    </tr>\n",
       "    <tr>\n",
       "      <th>소소루</th>\n",
       "      <td>0.0</td>\n",
       "      <td>0.0</td>\n",
       "      <td>0.0</td>\n",
       "      <td>0.0</td>\n",
       "      <td>0.0</td>\n",
       "      <td>0.0</td>\n",
       "      <td>0.0</td>\n",
       "      <td>0.0</td>\n",
       "      <td>0.0</td>\n",
       "      <td>0.0</td>\n",
       "    </tr>\n",
       "    <tr>\n",
       "      <th>...</th>\n",
       "      <td>...</td>\n",
       "      <td>...</td>\n",
       "      <td>...</td>\n",
       "      <td>...</td>\n",
       "      <td>...</td>\n",
       "      <td>...</td>\n",
       "      <td>...</td>\n",
       "      <td>...</td>\n",
       "      <td>...</td>\n",
       "      <td>...</td>\n",
       "    </tr>\n",
       "    <tr>\n",
       "      <th>이*은</th>\n",
       "      <td>0.0</td>\n",
       "      <td>0.0</td>\n",
       "      <td>0.0</td>\n",
       "      <td>0.0</td>\n",
       "      <td>0.0</td>\n",
       "      <td>0.0</td>\n",
       "      <td>0.0</td>\n",
       "      <td>0.0</td>\n",
       "      <td>0.0</td>\n",
       "      <td>0.0</td>\n",
       "    </tr>\n",
       "    <tr>\n",
       "      <th>장*현</th>\n",
       "      <td>0.0</td>\n",
       "      <td>0.0</td>\n",
       "      <td>0.0</td>\n",
       "      <td>0.0</td>\n",
       "      <td>0.0</td>\n",
       "      <td>0.0</td>\n",
       "      <td>0.0</td>\n",
       "      <td>0.0</td>\n",
       "      <td>0.0</td>\n",
       "      <td>0.0</td>\n",
       "    </tr>\n",
       "    <tr>\n",
       "      <th>김*례</th>\n",
       "      <td>0.0</td>\n",
       "      <td>0.0</td>\n",
       "      <td>0.0</td>\n",
       "      <td>0.0</td>\n",
       "      <td>0.0</td>\n",
       "      <td>0.0</td>\n",
       "      <td>0.0</td>\n",
       "      <td>0.0</td>\n",
       "      <td>0.0</td>\n",
       "      <td>0.0</td>\n",
       "    </tr>\n",
       "    <tr>\n",
       "      <th>배*우</th>\n",
       "      <td>0.0</td>\n",
       "      <td>0.0</td>\n",
       "      <td>0.0</td>\n",
       "      <td>0.0</td>\n",
       "      <td>0.0</td>\n",
       "      <td>0.0</td>\n",
       "      <td>0.0</td>\n",
       "      <td>0.0</td>\n",
       "      <td>0.0</td>\n",
       "      <td>0.0</td>\n",
       "    </tr>\n",
       "    <tr>\n",
       "      <th>임*건</th>\n",
       "      <td>0.0</td>\n",
       "      <td>0.0</td>\n",
       "      <td>0.0</td>\n",
       "      <td>0.0</td>\n",
       "      <td>0.0</td>\n",
       "      <td>0.0</td>\n",
       "      <td>0.0</td>\n",
       "      <td>0.0</td>\n",
       "      <td>0.0</td>\n",
       "      <td>0.0</td>\n",
       "    </tr>\n",
       "  </tbody>\n",
       "</table>\n",
       "<p>3713 rows × 10 columns</p>\n",
       "</div>"
      ],
      "text/plain": [
       "      code0  code1  code2  code3  code4  code5  code6  code7  code8  code9\n",
       "nan     0.0    0.0    0.0    0.0    0.0    0.0    0.0    0.0    0.0    0.0\n",
       "나*우     0.0    0.0    0.0    0.0    0.0    0.0    0.0    0.0    0.0    0.0\n",
       "함*화     0.0    0.0    0.0    0.0    0.0    0.0    0.0    0.0    0.0    0.0\n",
       "노*정     0.0    0.0    0.0    0.0    0.0    0.0    0.0    0.0    0.0    0.0\n",
       "소소루     0.0    0.0    0.0    0.0    0.0    0.0    0.0    0.0    0.0    0.0\n",
       "...     ...    ...    ...    ...    ...    ...    ...    ...    ...    ...\n",
       "이*은     0.0    0.0    0.0    0.0    0.0    0.0    0.0    0.0    0.0    0.0\n",
       "장*현     0.0    0.0    0.0    0.0    0.0    0.0    0.0    0.0    0.0    0.0\n",
       "김*례     0.0    0.0    0.0    0.0    0.0    0.0    0.0    0.0    0.0    0.0\n",
       "배*우     0.0    0.0    0.0    0.0    0.0    0.0    0.0    0.0    0.0    0.0\n",
       "임*건     0.0    0.0    0.0    0.0    0.0    0.0    0.0    0.0    0.0    0.0\n",
       "\n",
       "[3713 rows x 10 columns]"
      ]
     },
     "execution_count": 126,
     "metadata": {},
     "output_type": "execute_result"
    }
   ],
   "source": [
    "df2"
   ]
  },
  {
   "cell_type": "code",
   "execution_count": 213,
   "metadata": {},
   "outputs": [
    {
     "data": {
      "text/html": [
       "<div>\n",
       "<style scoped>\n",
       "    .dataframe tbody tr th:only-of-type {\n",
       "        vertical-align: middle;\n",
       "    }\n",
       "\n",
       "    .dataframe tbody tr th {\n",
       "        vertical-align: top;\n",
       "    }\n",
       "\n",
       "    .dataframe thead th {\n",
       "        text-align: right;\n",
       "    }\n",
       "</style>\n",
       "<table border=\"1\" class=\"dataframe\">\n",
       "  <thead>\n",
       "    <tr style=\"text-align: right;\">\n",
       "      <th></th>\n",
       "      <th>code0</th>\n",
       "      <th>code1</th>\n",
       "      <th>code2</th>\n",
       "      <th>code3</th>\n",
       "      <th>code4</th>\n",
       "      <th>code5</th>\n",
       "      <th>code6</th>\n",
       "      <th>code7</th>\n",
       "      <th>code8</th>\n",
       "      <th>code9</th>\n",
       "    </tr>\n",
       "  </thead>\n",
       "  <tbody>\n",
       "    <tr>\n",
       "      <th>나*우</th>\n",
       "      <td>0.0</td>\n",
       "      <td>0.0</td>\n",
       "      <td>0.0</td>\n",
       "      <td>0.0</td>\n",
       "      <td>0.0</td>\n",
       "      <td>0.0</td>\n",
       "      <td>0.0</td>\n",
       "      <td>0.0</td>\n",
       "      <td>0.0</td>\n",
       "      <td>0.0</td>\n",
       "    </tr>\n",
       "    <tr>\n",
       "      <th>함*화</th>\n",
       "      <td>0.0</td>\n",
       "      <td>0.0</td>\n",
       "      <td>0.0</td>\n",
       "      <td>0.0</td>\n",
       "      <td>0.0</td>\n",
       "      <td>0.0</td>\n",
       "      <td>0.0</td>\n",
       "      <td>0.0</td>\n",
       "      <td>0.0</td>\n",
       "      <td>0.0</td>\n",
       "    </tr>\n",
       "    <tr>\n",
       "      <th>노*정</th>\n",
       "      <td>0.0</td>\n",
       "      <td>0.0</td>\n",
       "      <td>0.0</td>\n",
       "      <td>0.0</td>\n",
       "      <td>0.0</td>\n",
       "      <td>0.0</td>\n",
       "      <td>0.0</td>\n",
       "      <td>0.0</td>\n",
       "      <td>0.0</td>\n",
       "      <td>0.0</td>\n",
       "    </tr>\n",
       "    <tr>\n",
       "      <th>소소루</th>\n",
       "      <td>0.0</td>\n",
       "      <td>0.0</td>\n",
       "      <td>0.0</td>\n",
       "      <td>0.0</td>\n",
       "      <td>0.0</td>\n",
       "      <td>0.0</td>\n",
       "      <td>0.0</td>\n",
       "      <td>0.0</td>\n",
       "      <td>0.0</td>\n",
       "      <td>0.0</td>\n",
       "    </tr>\n",
       "    <tr>\n",
       "      <th>오*림</th>\n",
       "      <td>0.0</td>\n",
       "      <td>0.0</td>\n",
       "      <td>0.0</td>\n",
       "      <td>0.0</td>\n",
       "      <td>0.0</td>\n",
       "      <td>0.0</td>\n",
       "      <td>0.0</td>\n",
       "      <td>0.0</td>\n",
       "      <td>0.0</td>\n",
       "      <td>0.0</td>\n",
       "    </tr>\n",
       "    <tr>\n",
       "      <th>...</th>\n",
       "      <td>...</td>\n",
       "      <td>...</td>\n",
       "      <td>...</td>\n",
       "      <td>...</td>\n",
       "      <td>...</td>\n",
       "      <td>...</td>\n",
       "      <td>...</td>\n",
       "      <td>...</td>\n",
       "      <td>...</td>\n",
       "      <td>...</td>\n",
       "    </tr>\n",
       "    <tr>\n",
       "      <th>이*은</th>\n",
       "      <td>0.0</td>\n",
       "      <td>0.0</td>\n",
       "      <td>0.0</td>\n",
       "      <td>0.0</td>\n",
       "      <td>0.0</td>\n",
       "      <td>0.0</td>\n",
       "      <td>0.0</td>\n",
       "      <td>0.0</td>\n",
       "      <td>0.0</td>\n",
       "      <td>0.0</td>\n",
       "    </tr>\n",
       "    <tr>\n",
       "      <th>장*현</th>\n",
       "      <td>0.0</td>\n",
       "      <td>0.0</td>\n",
       "      <td>0.0</td>\n",
       "      <td>0.0</td>\n",
       "      <td>0.0</td>\n",
       "      <td>0.0</td>\n",
       "      <td>0.0</td>\n",
       "      <td>0.0</td>\n",
       "      <td>0.0</td>\n",
       "      <td>0.0</td>\n",
       "    </tr>\n",
       "    <tr>\n",
       "      <th>김*례</th>\n",
       "      <td>0.0</td>\n",
       "      <td>0.0</td>\n",
       "      <td>0.0</td>\n",
       "      <td>0.0</td>\n",
       "      <td>0.0</td>\n",
       "      <td>0.0</td>\n",
       "      <td>0.0</td>\n",
       "      <td>0.0</td>\n",
       "      <td>0.0</td>\n",
       "      <td>0.0</td>\n",
       "    </tr>\n",
       "    <tr>\n",
       "      <th>배*우</th>\n",
       "      <td>0.0</td>\n",
       "      <td>0.0</td>\n",
       "      <td>0.0</td>\n",
       "      <td>0.0</td>\n",
       "      <td>0.0</td>\n",
       "      <td>0.0</td>\n",
       "      <td>0.0</td>\n",
       "      <td>0.0</td>\n",
       "      <td>0.0</td>\n",
       "      <td>0.0</td>\n",
       "    </tr>\n",
       "    <tr>\n",
       "      <th>임*건</th>\n",
       "      <td>0.0</td>\n",
       "      <td>0.0</td>\n",
       "      <td>0.0</td>\n",
       "      <td>0.0</td>\n",
       "      <td>0.0</td>\n",
       "      <td>0.0</td>\n",
       "      <td>0.0</td>\n",
       "      <td>0.0</td>\n",
       "      <td>0.0</td>\n",
       "      <td>0.0</td>\n",
       "    </tr>\n",
       "  </tbody>\n",
       "</table>\n",
       "<p>3713 rows × 10 columns</p>\n",
       "</div>"
      ],
      "text/plain": [
       "      code0  code1  code2  code3  code4  code5  code6  code7  code8  code9\n",
       "나*우     0.0    0.0    0.0    0.0    0.0    0.0    0.0    0.0    0.0    0.0\n",
       "함*화     0.0    0.0    0.0    0.0    0.0    0.0    0.0    0.0    0.0    0.0\n",
       "노*정     0.0    0.0    0.0    0.0    0.0    0.0    0.0    0.0    0.0    0.0\n",
       "소소루     0.0    0.0    0.0    0.0    0.0    0.0    0.0    0.0    0.0    0.0\n",
       "오*림     0.0    0.0    0.0    0.0    0.0    0.0    0.0    0.0    0.0    0.0\n",
       "...     ...    ...    ...    ...    ...    ...    ...    ...    ...    ...\n",
       "이*은     0.0    0.0    0.0    0.0    0.0    0.0    0.0    0.0    0.0    0.0\n",
       "장*현     0.0    0.0    0.0    0.0    0.0    0.0    0.0    0.0    0.0    0.0\n",
       "김*례     0.0    0.0    0.0    0.0    0.0    0.0    0.0    0.0    0.0    0.0\n",
       "배*우     0.0    0.0    0.0    0.0    0.0    0.0    0.0    0.0    0.0    0.0\n",
       "임*건     0.0    0.0    0.0    0.0    0.0    0.0    0.0    0.0    0.0    0.0\n",
       "\n",
       "[3713 rows x 10 columns]"
      ]
     },
     "execution_count": 213,
     "metadata": {},
     "output_type": "execute_result"
    }
   ],
   "source": [
    "df2"
   ]
  },
  {
   "cell_type": "code",
   "execution_count": 127,
   "metadata": {},
   "outputs": [
    {
     "name": "stdout",
     "output_type": "stream",
     "text": [
      "code0\n",
      "code1\n",
      "code2\n",
      "code3\n",
      "code4\n",
      "code5\n",
      "code6\n",
      "code7\n",
      "code8\n",
      "code9\n"
     ]
    }
   ],
   "source": [
    "for c in df2.columns :\n",
    "    print(c)"
   ]
  },
  {
   "cell_type": "code",
   "execution_count": 214,
   "metadata": {},
   "outputs": [],
   "source": [
    "import numpy as np\n",
    "\n",
    "for c in df2.columns :\n",
    "    \n",
    "    for buyer in df[c].dropna().to_list():\n",
    "        \n",
    "        df2.loc[buyer, c] = 1\n",
    "        \n",
    "        "
   ]
  },
  {
   "cell_type": "code",
   "execution_count": 147,
   "metadata": {},
   "outputs": [],
   "source": [
    "df2.loc['나*우 ', 'code0'] = 1"
   ]
  },
  {
   "cell_type": "code",
   "execution_count": 215,
   "metadata": {
    "scrolled": true
   },
   "outputs": [],
   "source": [
    "df2 = df2.fillna(0)"
   ]
  },
  {
   "cell_type": "code",
   "execution_count": 216,
   "metadata": {},
   "outputs": [
    {
     "data": {
      "text/plain": [
       "code0    0\n",
       "code1    0\n",
       "code2    0\n",
       "code3    0\n",
       "code4    0\n",
       "code5    0\n",
       "code6    0\n",
       "code7    0\n",
       "code8    0\n",
       "code9    0\n",
       "dtype: int64"
      ]
     },
     "execution_count": 216,
     "metadata": {},
     "output_type": "execute_result"
    }
   ],
   "source": [
    "df2.isnull().sum()"
   ]
  },
  {
   "cell_type": "code",
   "execution_count": 217,
   "metadata": {},
   "outputs": [
    {
     "data": {
      "text/html": [
       "<div>\n",
       "<style scoped>\n",
       "    .dataframe tbody tr th:only-of-type {\n",
       "        vertical-align: middle;\n",
       "    }\n",
       "\n",
       "    .dataframe tbody tr th {\n",
       "        vertical-align: top;\n",
       "    }\n",
       "\n",
       "    .dataframe thead th {\n",
       "        text-align: right;\n",
       "    }\n",
       "</style>\n",
       "<table border=\"1\" class=\"dataframe\">\n",
       "  <thead>\n",
       "    <tr style=\"text-align: right;\">\n",
       "      <th></th>\n",
       "      <th>code0</th>\n",
       "      <th>code1</th>\n",
       "      <th>code2</th>\n",
       "      <th>code3</th>\n",
       "      <th>code4</th>\n",
       "      <th>code5</th>\n",
       "      <th>code6</th>\n",
       "      <th>code7</th>\n",
       "      <th>code8</th>\n",
       "      <th>code9</th>\n",
       "    </tr>\n",
       "  </thead>\n",
       "  <tbody>\n",
       "    <tr>\n",
       "      <th>이*은</th>\n",
       "      <td>0.0</td>\n",
       "      <td>1.0</td>\n",
       "      <td>1.0</td>\n",
       "      <td>1.0</td>\n",
       "      <td>1.0</td>\n",
       "      <td>1.0</td>\n",
       "      <td>1.0</td>\n",
       "      <td>1.0</td>\n",
       "      <td>1.0</td>\n",
       "      <td>1.0</td>\n",
       "    </tr>\n",
       "    <tr>\n",
       "      <th>장*현</th>\n",
       "      <td>0.0</td>\n",
       "      <td>1.0</td>\n",
       "      <td>0.0</td>\n",
       "      <td>0.0</td>\n",
       "      <td>0.0</td>\n",
       "      <td>0.0</td>\n",
       "      <td>1.0</td>\n",
       "      <td>1.0</td>\n",
       "      <td>0.0</td>\n",
       "      <td>0.0</td>\n",
       "    </tr>\n",
       "    <tr>\n",
       "      <th>김*례</th>\n",
       "      <td>0.0</td>\n",
       "      <td>0.0</td>\n",
       "      <td>0.0</td>\n",
       "      <td>1.0</td>\n",
       "      <td>1.0</td>\n",
       "      <td>0.0</td>\n",
       "      <td>0.0</td>\n",
       "      <td>0.0</td>\n",
       "      <td>0.0</td>\n",
       "      <td>0.0</td>\n",
       "    </tr>\n",
       "    <tr>\n",
       "      <th>배*우</th>\n",
       "      <td>1.0</td>\n",
       "      <td>0.0</td>\n",
       "      <td>0.0</td>\n",
       "      <td>0.0</td>\n",
       "      <td>0.0</td>\n",
       "      <td>0.0</td>\n",
       "      <td>0.0</td>\n",
       "      <td>0.0</td>\n",
       "      <td>0.0</td>\n",
       "      <td>0.0</td>\n",
       "    </tr>\n",
       "    <tr>\n",
       "      <th>임*건</th>\n",
       "      <td>0.0</td>\n",
       "      <td>1.0</td>\n",
       "      <td>0.0</td>\n",
       "      <td>0.0</td>\n",
       "      <td>0.0</td>\n",
       "      <td>0.0</td>\n",
       "      <td>0.0</td>\n",
       "      <td>0.0</td>\n",
       "      <td>0.0</td>\n",
       "      <td>0.0</td>\n",
       "    </tr>\n",
       "    <tr>\n",
       "      <th>874</th>\n",
       "      <td>0.0</td>\n",
       "      <td>0.0</td>\n",
       "      <td>0.0</td>\n",
       "      <td>0.0</td>\n",
       "      <td>1.0</td>\n",
       "      <td>0.0</td>\n",
       "      <td>1.0</td>\n",
       "      <td>0.0</td>\n",
       "      <td>0.0</td>\n",
       "      <td>0.0</td>\n",
       "    </tr>\n",
       "    <tr>\n",
       "      <th>8073</th>\n",
       "      <td>0.0</td>\n",
       "      <td>0.0</td>\n",
       "      <td>0.0</td>\n",
       "      <td>0.0</td>\n",
       "      <td>0.0</td>\n",
       "      <td>0.0</td>\n",
       "      <td>1.0</td>\n",
       "      <td>0.0</td>\n",
       "      <td>0.0</td>\n",
       "      <td>0.0</td>\n",
       "    </tr>\n",
       "    <tr>\n",
       "      <th>704</th>\n",
       "      <td>0.0</td>\n",
       "      <td>0.0</td>\n",
       "      <td>0.0</td>\n",
       "      <td>0.0</td>\n",
       "      <td>0.0</td>\n",
       "      <td>0.0</td>\n",
       "      <td>0.0</td>\n",
       "      <td>1.0</td>\n",
       "      <td>0.0</td>\n",
       "      <td>0.0</td>\n",
       "    </tr>\n",
       "    <tr>\n",
       "      <th>518</th>\n",
       "      <td>0.0</td>\n",
       "      <td>0.0</td>\n",
       "      <td>0.0</td>\n",
       "      <td>0.0</td>\n",
       "      <td>0.0</td>\n",
       "      <td>0.0</td>\n",
       "      <td>0.0</td>\n",
       "      <td>0.0</td>\n",
       "      <td>0.0</td>\n",
       "      <td>1.0</td>\n",
       "    </tr>\n",
       "    <tr>\n",
       "      <th>2692</th>\n",
       "      <td>0.0</td>\n",
       "      <td>0.0</td>\n",
       "      <td>0.0</td>\n",
       "      <td>0.0</td>\n",
       "      <td>0.0</td>\n",
       "      <td>0.0</td>\n",
       "      <td>0.0</td>\n",
       "      <td>0.0</td>\n",
       "      <td>0.0</td>\n",
       "      <td>1.0</td>\n",
       "    </tr>\n",
       "  </tbody>\n",
       "</table>\n",
       "</div>"
      ],
      "text/plain": [
       "      code0  code1  code2  code3  code4  code5  code6  code7  code8  code9\n",
       "이*은     0.0    1.0    1.0    1.0    1.0    1.0    1.0    1.0    1.0    1.0\n",
       "장*현     0.0    1.0    0.0    0.0    0.0    0.0    1.0    1.0    0.0    0.0\n",
       "김*례     0.0    0.0    0.0    1.0    1.0    0.0    0.0    0.0    0.0    0.0\n",
       "배*우     1.0    0.0    0.0    0.0    0.0    0.0    0.0    0.0    0.0    0.0\n",
       "임*건     0.0    1.0    0.0    0.0    0.0    0.0    0.0    0.0    0.0    0.0\n",
       "874     0.0    0.0    0.0    0.0    1.0    0.0    1.0    0.0    0.0    0.0\n",
       "8073    0.0    0.0    0.0    0.0    0.0    0.0    1.0    0.0    0.0    0.0\n",
       "704     0.0    0.0    0.0    0.0    0.0    0.0    0.0    1.0    0.0    0.0\n",
       "518     0.0    0.0    0.0    0.0    0.0    0.0    0.0    0.0    0.0    1.0\n",
       "2692    0.0    0.0    0.0    0.0    0.0    0.0    0.0    0.0    0.0    1.0"
      ]
     },
     "execution_count": 217,
     "metadata": {},
     "output_type": "execute_result"
    }
   ],
   "source": [
    "df2.tail(10)"
   ]
  },
  {
   "cell_type": "code",
   "execution_count": 218,
   "metadata": {},
   "outputs": [],
   "source": [
    "X = df2.values"
   ]
  },
  {
   "cell_type": "code",
   "execution_count": 230,
   "metadata": {},
   "outputs": [
    {
     "data": {
      "text/plain": [
       "array([[0., 0., 0., ..., 0., 0., 0.],\n",
       "       [0., 0., 1., ..., 0., 0., 0.],\n",
       "       [0., 1., 1., ..., 0., 0., 1.],\n",
       "       ...,\n",
       "       [0., 0., 0., ..., 1., 0., 0.],\n",
       "       [0., 0., 0., ..., 0., 0., 1.],\n",
       "       [0., 0., 0., ..., 0., 0., 1.]])"
      ]
     },
     "execution_count": 230,
     "metadata": {},
     "output_type": "execute_result"
    }
   ],
   "source": [
    "X"
   ]
  },
  {
   "cell_type": "code",
   "execution_count": 186,
   "metadata": {},
   "outputs": [
    {
     "data": {
      "text/html": [
       "<div>\n",
       "<style scoped>\n",
       "    .dataframe tbody tr th:only-of-type {\n",
       "        vertical-align: middle;\n",
       "    }\n",
       "\n",
       "    .dataframe tbody tr th {\n",
       "        vertical-align: top;\n",
       "    }\n",
       "\n",
       "    .dataframe thead th {\n",
       "        text-align: right;\n",
       "    }\n",
       "</style>\n",
       "<table border=\"1\" class=\"dataframe\">\n",
       "  <thead>\n",
       "    <tr style=\"text-align: right;\">\n",
       "      <th></th>\n",
       "      <th>code0</th>\n",
       "      <th>code1</th>\n",
       "      <th>code2</th>\n",
       "      <th>code3</th>\n",
       "      <th>code4</th>\n",
       "      <th>code5</th>\n",
       "      <th>code6</th>\n",
       "      <th>code7</th>\n",
       "      <th>code8</th>\n",
       "      <th>code9</th>\n",
       "    </tr>\n",
       "  </thead>\n",
       "  <tbody>\n",
       "    <tr>\n",
       "      <th>리베카</th>\n",
       "      <td>1.0</td>\n",
       "      <td>0.0</td>\n",
       "      <td>0.0</td>\n",
       "      <td>0.0</td>\n",
       "      <td>0.0</td>\n",
       "      <td>0.0</td>\n",
       "      <td>0.0</td>\n",
       "      <td>0.0</td>\n",
       "      <td>0.0</td>\n",
       "      <td>0.0</td>\n",
       "    </tr>\n",
       "  </tbody>\n",
       "</table>\n",
       "</div>"
      ],
      "text/plain": [
       "      code0  code1  code2  code3  code4  code5  code6  code7  code8  code9\n",
       "리베카     1.0    0.0    0.0    0.0    0.0    0.0    0.0    0.0    0.0    0.0"
      ]
     },
     "execution_count": 186,
     "metadata": {},
     "output_type": "execute_result"
    }
   ],
   "source": [
    "df2[df2.index=='리베카 ']"
   ]
  },
  {
   "cell_type": "markdown",
   "metadata": {},
   "source": [
    "## k-means 돌려보기"
   ]
  },
  {
   "cell_type": "code",
   "execution_count": 220,
   "metadata": {},
   "outputs": [],
   "source": [
    "from sklearn.cluster import KMeans"
   ]
  },
  {
   "cell_type": "code",
   "execution_count": 221,
   "metadata": {},
   "outputs": [],
   "source": [
    "wcss = []"
   ]
  },
  {
   "cell_type": "code",
   "execution_count": 222,
   "metadata": {},
   "outputs": [],
   "source": [
    "for i in range(1, 10+1):\n",
    "    kmeans = KMeans(n_clusters=i, init='k-means++', random_state=42)\n",
    "    kmeans.fit(X)\n",
    "    \n",
    "    wcss.append(kmeans.inertia_)"
   ]
  },
  {
   "cell_type": "code",
   "execution_count": 224,
   "metadata": {},
   "outputs": [
    {
     "data": {
      "image/png": "[encoded data removed]",
      "text/plain": [
       "<Figure size 432x288 with 1 Axes>"
      ]
     },
     "metadata": {
      "needs_background": "light"
     },
     "output_type": "display_data"
    }
   ],
   "source": [
    "import matplotlib.pyplot as plt\n",
    "plt.plot(range(1,11), wcss) #기울기확인해줘야하니까 plot\n",
    "plt.title('The Elbow Method')\n",
    "plt.xlabel('Number of Clusters')\n",
    "plt.ylabel('wcss')\n",
    "plt.show()"
   ]
  },
  {
   "cell_type": "code",
   "execution_count": null,
   "metadata": {},
   "outputs": [],
   "source": []
  },
  {
   "cell_type": "code",
   "execution_count": null,
   "metadata": {},
   "outputs": [],
   "source": []
  },
  {
   "cell_type": "code",
   "execution_count": 235,
   "metadata": {},
   "outputs": [],
   "source": [
    "km = KMeans(n_clusters=10, init = 'k-means++', random_state = 42)"
   ]
  },
  {
   "cell_type": "code",
   "execution_count": 236,
   "metadata": {},
   "outputs": [],
   "source": [
    "y_kmeans = km.fit_predict(X)"
   ]
  },
  {
   "cell_type": "code",
   "execution_count": 237,
   "metadata": {},
   "outputs": [
    {
     "data": {
      "text/plain": [
       "array([2, 3, 3, ..., 6, 0, 0], dtype=int32)"
      ]
     },
     "execution_count": 237,
     "metadata": {},
     "output_type": "execute_result"
    }
   ],
   "source": [
    "y_kmeans"
   ]
  },
  {
   "cell_type": "code",
   "execution_count": 238,
   "metadata": {},
   "outputs": [
    {
     "data": {
      "image/png": "[encoded data removed]",
      "text/plain": [
       "<Figure size 432x288 with 1 Axes>"
      ]
     },
     "metadata": {
      "needs_background": "light"
     },
     "output_type": "display_data"
    }
   ],
   "source": [
    "plt.scatter(data = df2, x = 'user_id', y = 'product_name')\n",
    "plt.show()"
   ]
  },
  {
   "cell_type": "code",
   "execution_count": null,
   "metadata": {},
   "outputs": [],
   "source": []
  }
 ],
 "metadata": {
  "kernelspec": {
   "display_name": "Python 3",
   "language": "python",
   "name": "python3"
  },
  "language_info": {
   "codemirror_mode": {
    "name": "ipython",
    "version": 3
   },
   "file_extension": ".py",
   "mimetype": "text/x-python",
   "name": "python",
   "nbconvert_exporter": "python",
   "pygments_lexer": "ipython3",
   "version": "3.8.5"
  }
 },
 "nbformat": 4,
 "nbformat_minor": 2
}
